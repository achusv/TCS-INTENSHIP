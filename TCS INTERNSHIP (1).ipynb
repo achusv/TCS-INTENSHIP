{
 "cells": [
  {
   "cell_type": "markdown",
   "metadata": {
    "id": "OT3hNtiRtmbX"
   },
   "source": [
    "### ACHU S VIJAYAN\n",
    "\n",
    "### TCS INTERNSHIP"
   ]
  },
  {
   "cell_type": "markdown",
   "metadata": {},
   "source": [
    "# HR SALARY PREDICTION DASHBOARD"
   ]
  },
  {
   "cell_type": "markdown",
   "metadata": {
    "id": "3uwwCNh9th27"
   },
   "source": [
    "**Problem Statement**\n",
    "\n",
    "The goal of this project is to clean the data, analysis and predict whether a person's salary is higher or lower than $50k/year based on their attributes using several ML classification techniques."
   ]
  },
  {
   "cell_type": "markdown",
   "metadata": {
    "id": "HuITw9MLjE6j"
   },
   "source": [
    "### Loading the dataset into Python enviornment"
   ]
  },
  {
   "cell_type": "code",
   "execution_count": 1,
   "metadata": {
    "id": "UXdHjWONjGcY"
   },
   "outputs": [],
   "source": [
    "#import necessary libraries\n",
    "import numpy as np # linear algebra\n",
    "import pandas as pd # data processing, CSV file I/O (e.g. pd.read_csv)\n",
    "\n",
    "# Libraries for data visualization\n",
    "import matplotlib.pyplot as plt  \n",
    "import seaborn as sns \n",
    "from pandas.plotting import scatter_matrix\n",
    "from collections import Counter\n",
    "def printmd(string):\n",
    "    display(Markdown(string))\n",
    "\n",
    "\n",
    "# Import sys and warnings to ignore warning messages \n",
    "import sys\n",
    "import warnings\n",
    "%matplotlib inline\n",
    "\n",
    "if not sys.warnoptions:\n",
    "    warnings.simplefilter(\"ignore\")"
   ]
  },
  {
   "cell_type": "code",
   "execution_count": 2,
   "metadata": {
    "id": "HwUhBOBVkUMg"
   },
   "outputs": [],
   "source": [
    "data=pd.read_csv('salarydata.csv')"
   ]
  },
  {
   "cell_type": "code",
   "execution_count": 3,
   "metadata": {
    "colab": {
     "base_uri": "https://localhost:8080/",
     "height": 354
    },
    "id": "WVBceiVrrx6-",
    "outputId": "81bc859f-17d3-45cb-eba3-d4d89397c1ef"
   },
   "outputs": [
    {
     "data": {
      "text/html": [
       "<div>\n",
       "<style scoped>\n",
       "    .dataframe tbody tr th:only-of-type {\n",
       "        vertical-align: middle;\n",
       "    }\n",
       "\n",
       "    .dataframe tbody tr th {\n",
       "        vertical-align: top;\n",
       "    }\n",
       "\n",
       "    .dataframe thead th {\n",
       "        text-align: right;\n",
       "    }\n",
       "</style>\n",
       "<table border=\"1\" class=\"dataframe\">\n",
       "  <thead>\n",
       "    <tr style=\"text-align: right;\">\n",
       "      <th></th>\n",
       "      <th>age</th>\n",
       "      <th>workclass</th>\n",
       "      <th>education</th>\n",
       "      <th>education-num</th>\n",
       "      <th>marital-status</th>\n",
       "      <th>occupation</th>\n",
       "      <th>relationship</th>\n",
       "      <th>race</th>\n",
       "      <th>sex</th>\n",
       "      <th>capital-gain</th>\n",
       "      <th>capital-loss</th>\n",
       "      <th>hours-per-week</th>\n",
       "      <th>native-country</th>\n",
       "      <th>salary</th>\n",
       "    </tr>\n",
       "  </thead>\n",
       "  <tbody>\n",
       "    <tr>\n",
       "      <th>0</th>\n",
       "      <td>39</td>\n",
       "      <td>State-gov</td>\n",
       "      <td>Bachelors</td>\n",
       "      <td>13</td>\n",
       "      <td>Never-married</td>\n",
       "      <td>Adm-clerical</td>\n",
       "      <td>Not-in-family</td>\n",
       "      <td>White</td>\n",
       "      <td>Male</td>\n",
       "      <td>2174</td>\n",
       "      <td>0</td>\n",
       "      <td>40</td>\n",
       "      <td>United-States</td>\n",
       "      <td>&lt;=50K</td>\n",
       "    </tr>\n",
       "    <tr>\n",
       "      <th>1</th>\n",
       "      <td>50</td>\n",
       "      <td>Self-emp-not-inc</td>\n",
       "      <td>Bachelors</td>\n",
       "      <td>13</td>\n",
       "      <td>Married-civ-spouse</td>\n",
       "      <td>Exec-managerial</td>\n",
       "      <td>Husband</td>\n",
       "      <td>White</td>\n",
       "      <td>Male</td>\n",
       "      <td>0</td>\n",
       "      <td>0</td>\n",
       "      <td>13</td>\n",
       "      <td>United-States</td>\n",
       "      <td>&lt;=50K</td>\n",
       "    </tr>\n",
       "    <tr>\n",
       "      <th>2</th>\n",
       "      <td>38</td>\n",
       "      <td>Private</td>\n",
       "      <td>HS-grad</td>\n",
       "      <td>9</td>\n",
       "      <td>Divorced</td>\n",
       "      <td>Handlers-cleaners</td>\n",
       "      <td>Not-in-family</td>\n",
       "      <td>White</td>\n",
       "      <td>Male</td>\n",
       "      <td>0</td>\n",
       "      <td>0</td>\n",
       "      <td>40</td>\n",
       "      <td>United-States</td>\n",
       "      <td>&lt;=50K</td>\n",
       "    </tr>\n",
       "    <tr>\n",
       "      <th>3</th>\n",
       "      <td>53</td>\n",
       "      <td>Private</td>\n",
       "      <td>11th</td>\n",
       "      <td>7</td>\n",
       "      <td>Married-civ-spouse</td>\n",
       "      <td>Handlers-cleaners</td>\n",
       "      <td>Husband</td>\n",
       "      <td>Black</td>\n",
       "      <td>Male</td>\n",
       "      <td>0</td>\n",
       "      <td>0</td>\n",
       "      <td>40</td>\n",
       "      <td>United-States</td>\n",
       "      <td>&lt;=50K</td>\n",
       "    </tr>\n",
       "    <tr>\n",
       "      <th>4</th>\n",
       "      <td>28</td>\n",
       "      <td>Private</td>\n",
       "      <td>Bachelors</td>\n",
       "      <td>13</td>\n",
       "      <td>Married-civ-spouse</td>\n",
       "      <td>Prof-specialty</td>\n",
       "      <td>Wife</td>\n",
       "      <td>Black</td>\n",
       "      <td>Female</td>\n",
       "      <td>0</td>\n",
       "      <td>0</td>\n",
       "      <td>40</td>\n",
       "      <td>Cuba</td>\n",
       "      <td>&lt;=50K</td>\n",
       "    </tr>\n",
       "  </tbody>\n",
       "</table>\n",
       "</div>"
      ],
      "text/plain": [
       "   age         workclass  education  education-num      marital-status  \\\n",
       "0   39         State-gov  Bachelors             13       Never-married   \n",
       "1   50  Self-emp-not-inc  Bachelors             13  Married-civ-spouse   \n",
       "2   38           Private    HS-grad              9            Divorced   \n",
       "3   53           Private       11th              7  Married-civ-spouse   \n",
       "4   28           Private  Bachelors             13  Married-civ-spouse   \n",
       "\n",
       "          occupation   relationship   race     sex  capital-gain  \\\n",
       "0       Adm-clerical  Not-in-family  White    Male          2174   \n",
       "1    Exec-managerial        Husband  White    Male             0   \n",
       "2  Handlers-cleaners  Not-in-family  White    Male             0   \n",
       "3  Handlers-cleaners        Husband  Black    Male             0   \n",
       "4     Prof-specialty           Wife  Black  Female             0   \n",
       "\n",
       "   capital-loss  hours-per-week native-country salary  \n",
       "0             0              40  United-States  <=50K  \n",
       "1             0              13  United-States  <=50K  \n",
       "2             0              40  United-States  <=50K  \n",
       "3             0              40  United-States  <=50K  \n",
       "4             0              40           Cuba  <=50K  "
      ]
     },
     "execution_count": 3,
     "metadata": {},
     "output_type": "execute_result"
    }
   ],
   "source": [
    "data.head()"
   ]
  },
  {
   "cell_type": "code",
   "execution_count": 4,
   "metadata": {
    "colab": {
     "base_uri": "https://localhost:8080/",
     "height": 354
    },
    "id": "wF02xKmUtDmF",
    "outputId": "e375d140-95d5-4052-bd15-4c7e82c86f55"
   },
   "outputs": [
    {
     "data": {
      "text/html": [
       "<div>\n",
       "<style scoped>\n",
       "    .dataframe tbody tr th:only-of-type {\n",
       "        vertical-align: middle;\n",
       "    }\n",
       "\n",
       "    .dataframe tbody tr th {\n",
       "        vertical-align: top;\n",
       "    }\n",
       "\n",
       "    .dataframe thead th {\n",
       "        text-align: right;\n",
       "    }\n",
       "</style>\n",
       "<table border=\"1\" class=\"dataframe\">\n",
       "  <thead>\n",
       "    <tr style=\"text-align: right;\">\n",
       "      <th></th>\n",
       "      <th>age</th>\n",
       "      <th>workclass</th>\n",
       "      <th>education</th>\n",
       "      <th>education-num</th>\n",
       "      <th>marital-status</th>\n",
       "      <th>occupation</th>\n",
       "      <th>relationship</th>\n",
       "      <th>race</th>\n",
       "      <th>sex</th>\n",
       "      <th>capital-gain</th>\n",
       "      <th>capital-loss</th>\n",
       "      <th>hours-per-week</th>\n",
       "      <th>native-country</th>\n",
       "      <th>salary</th>\n",
       "    </tr>\n",
       "  </thead>\n",
       "  <tbody>\n",
       "    <tr>\n",
       "      <th>32556</th>\n",
       "      <td>27</td>\n",
       "      <td>Private</td>\n",
       "      <td>Assoc-acdm</td>\n",
       "      <td>12</td>\n",
       "      <td>Married-civ-spouse</td>\n",
       "      <td>Tech-support</td>\n",
       "      <td>Wife</td>\n",
       "      <td>White</td>\n",
       "      <td>Female</td>\n",
       "      <td>0</td>\n",
       "      <td>0</td>\n",
       "      <td>38</td>\n",
       "      <td>United-States</td>\n",
       "      <td>&lt;=50K</td>\n",
       "    </tr>\n",
       "    <tr>\n",
       "      <th>32557</th>\n",
       "      <td>40</td>\n",
       "      <td>Private</td>\n",
       "      <td>HS-grad</td>\n",
       "      <td>9</td>\n",
       "      <td>Married-civ-spouse</td>\n",
       "      <td>Machine-op-inspct</td>\n",
       "      <td>Husband</td>\n",
       "      <td>White</td>\n",
       "      <td>Male</td>\n",
       "      <td>0</td>\n",
       "      <td>0</td>\n",
       "      <td>40</td>\n",
       "      <td>United-States</td>\n",
       "      <td>&gt;50K</td>\n",
       "    </tr>\n",
       "    <tr>\n",
       "      <th>32558</th>\n",
       "      <td>58</td>\n",
       "      <td>Private</td>\n",
       "      <td>HS-grad</td>\n",
       "      <td>9</td>\n",
       "      <td>Widowed</td>\n",
       "      <td>Adm-clerical</td>\n",
       "      <td>Unmarried</td>\n",
       "      <td>White</td>\n",
       "      <td>Female</td>\n",
       "      <td>0</td>\n",
       "      <td>0</td>\n",
       "      <td>40</td>\n",
       "      <td>United-States</td>\n",
       "      <td>&lt;=50K</td>\n",
       "    </tr>\n",
       "    <tr>\n",
       "      <th>32559</th>\n",
       "      <td>22</td>\n",
       "      <td>Private</td>\n",
       "      <td>HS-grad</td>\n",
       "      <td>9</td>\n",
       "      <td>Never-married</td>\n",
       "      <td>Adm-clerical</td>\n",
       "      <td>Own-child</td>\n",
       "      <td>White</td>\n",
       "      <td>Male</td>\n",
       "      <td>0</td>\n",
       "      <td>0</td>\n",
       "      <td>20</td>\n",
       "      <td>United-States</td>\n",
       "      <td>&lt;=50K</td>\n",
       "    </tr>\n",
       "    <tr>\n",
       "      <th>32560</th>\n",
       "      <td>52</td>\n",
       "      <td>Self-emp-inc</td>\n",
       "      <td>HS-grad</td>\n",
       "      <td>9</td>\n",
       "      <td>Married-civ-spouse</td>\n",
       "      <td>Exec-managerial</td>\n",
       "      <td>Wife</td>\n",
       "      <td>White</td>\n",
       "      <td>Female</td>\n",
       "      <td>15024</td>\n",
       "      <td>0</td>\n",
       "      <td>40</td>\n",
       "      <td>United-States</td>\n",
       "      <td>&gt;50K</td>\n",
       "    </tr>\n",
       "  </tbody>\n",
       "</table>\n",
       "</div>"
      ],
      "text/plain": [
       "       age     workclass   education  education-num      marital-status  \\\n",
       "32556   27       Private  Assoc-acdm             12  Married-civ-spouse   \n",
       "32557   40       Private     HS-grad              9  Married-civ-spouse   \n",
       "32558   58       Private     HS-grad              9             Widowed   \n",
       "32559   22       Private     HS-grad              9       Never-married   \n",
       "32560   52  Self-emp-inc     HS-grad              9  Married-civ-spouse   \n",
       "\n",
       "              occupation relationship   race     sex  capital-gain  \\\n",
       "32556       Tech-support         Wife  White  Female             0   \n",
       "32557  Machine-op-inspct      Husband  White    Male             0   \n",
       "32558       Adm-clerical    Unmarried  White  Female             0   \n",
       "32559       Adm-clerical    Own-child  White    Male             0   \n",
       "32560    Exec-managerial         Wife  White  Female         15024   \n",
       "\n",
       "       capital-loss  hours-per-week native-country salary  \n",
       "32556             0              38  United-States  <=50K  \n",
       "32557             0              40  United-States   >50K  \n",
       "32558             0              40  United-States  <=50K  \n",
       "32559             0              20  United-States  <=50K  \n",
       "32560             0              40  United-States   >50K  "
      ]
     },
     "execution_count": 4,
     "metadata": {},
     "output_type": "execute_result"
    }
   ],
   "source": [
    "data.tail()"
   ]
  },
  {
   "cell_type": "markdown",
   "metadata": {
    "id": "YBdC73IhzEdB"
   },
   "source": [
    "### Understanding the dataset"
   ]
  },
  {
   "cell_type": "code",
   "execution_count": 5,
   "metadata": {
    "colab": {
     "base_uri": "https://localhost:8080/"
    },
    "id": "9VRoFGuBtGO_",
    "outputId": "f0bada63-9a88-4b97-c14c-f0a29fc545b8"
   },
   "outputs": [
    {
     "data": {
      "text/plain": [
       "(32561, 14)"
      ]
     },
     "execution_count": 5,
     "metadata": {},
     "output_type": "execute_result"
    }
   ],
   "source": [
    "data.shape"
   ]
  },
  {
   "cell_type": "code",
   "execution_count": 6,
   "metadata": {
    "colab": {
     "base_uri": "https://localhost:8080/"
    },
    "id": "AU-IFkrEzUV4",
    "outputId": "344fa2c2-7fcf-497f-9491-d88710b15738"
   },
   "outputs": [
    {
     "name": "stdout",
     "output_type": "stream",
     "text": [
      "<class 'pandas.core.frame.DataFrame'>\n",
      "RangeIndex: 32561 entries, 0 to 32560\n",
      "Data columns (total 14 columns):\n",
      " #   Column          Non-Null Count  Dtype \n",
      "---  ------          --------------  ----- \n",
      " 0   age             32561 non-null  int64 \n",
      " 1   workclass       32561 non-null  object\n",
      " 2   education       32561 non-null  object\n",
      " 3   education-num   32561 non-null  int64 \n",
      " 4   marital-status  32561 non-null  object\n",
      " 5   occupation      32561 non-null  object\n",
      " 6   relationship    32561 non-null  object\n",
      " 7   race            32561 non-null  object\n",
      " 8   sex             32561 non-null  object\n",
      " 9   capital-gain    32561 non-null  int64 \n",
      " 10  capital-loss    32561 non-null  int64 \n",
      " 11  hours-per-week  32561 non-null  int64 \n",
      " 12  native-country  32561 non-null  object\n",
      " 13  salary          32561 non-null  object\n",
      "dtypes: int64(5), object(9)\n",
      "memory usage: 3.5+ MB\n"
     ]
    }
   ],
   "source": [
    "\n",
    "data.info()"
   ]
  },
  {
   "cell_type": "code",
   "execution_count": 7,
   "metadata": {
    "colab": {
     "base_uri": "https://localhost:8080/"
    },
    "id": "JMIx-XGL2LNI",
    "outputId": "ee14c580-0385-4f30-f2e1-e5091fed10bb"
   },
   "outputs": [
    {
     "name": "stdout",
     "output_type": "stream",
     "text": [
      "Number of Columns in the dataset:  14\n",
      "Number of rows in the dataset:  32561\n",
      "Total number of datapoints in the dataset: 455854\n",
      "Count of Numerical Features: 5\n",
      "Count of Categorical Features: 9\n"
     ]
    }
   ],
   "source": [
    "def data_info(data):\n",
    "    print('Number of Columns in the dataset: ',data.shape[1])\n",
    "    print('Number of rows in the dataset: ',data.shape[0])\n",
    "    print('Total number of datapoints in the dataset:',data.size)\n",
    "    numerical_features = [f for f in data.columns if data[f].dtypes!='O']\n",
    "    print('Count of Numerical Features:',len(numerical_features))\n",
    "    cat_features = [c for c in data.columns if data[c].dtypes=='O']\n",
    "    print('Count of Categorical Features:',len(cat_features))\n",
    "data_info(data)"
   ]
  },
  {
   "cell_type": "code",
   "execution_count": 8,
   "metadata": {
    "id": "ozOcU9Z_4CRm"
   },
   "outputs": [],
   "source": [
    "def unique_checker(data):\n",
    "    \"\"\"loops and prints unique values in each column\"\"\"\n",
    "    for col in data.columns:\n",
    "        print(\"Unique values in {} feature.\".format(col))\n",
    "        print(data[col].unique(),\"\\n\")\n",
    "        print(\"*\"*40)"
   ]
  },
  {
   "cell_type": "code",
   "execution_count": 9,
   "metadata": {
    "colab": {
     "base_uri": "https://localhost:8080/"
    },
    "id": "e8qDN_7X6RsE",
    "outputId": "0a0cb12a-3758-46e8-acc2-d38e28ba846c"
   },
   "outputs": [
    {
     "name": "stdout",
     "output_type": "stream",
     "text": [
      "Unique values in age feature.\n",
      "[39 50 38 53 28 37 49 52 31 42 30 23 32 40 34 25 43 54 35 59 56 19 20 45\n",
      " 22 48 21 24 57 44 41 29 18 47 46 36 79 27 67 33 76 17 55 61 70 64 71 68\n",
      " 66 51 58 26 60 90 75 65 77 62 63 80 72 74 69 73 81 78 88 82 83 84 85 86\n",
      " 87] \n",
      "\n",
      "****************************************\n",
      "Unique values in workclass feature.\n",
      "['State-gov' 'Self-emp-not-inc' 'Private' 'Federal-gov' 'Local-gov' '?'\n",
      " 'Self-emp-inc' 'Without-pay' 'Never-worked'] \n",
      "\n",
      "****************************************\n",
      "Unique values in education feature.\n",
      "['Bachelors' 'HS-grad' '11th' 'Masters' '9th' 'Some-college' 'Assoc-acdm'\n",
      " 'Assoc-voc' '7th-8th' 'Doctorate' 'Prof-school' '5th-6th' '10th'\n",
      " '1st-4th' 'Preschool' '12th'] \n",
      "\n",
      "****************************************\n",
      "Unique values in education-num feature.\n",
      "[13  9  7 14  5 10 12 11  4 16 15  3  6  2  1  8] \n",
      "\n",
      "****************************************\n",
      "Unique values in marital-status feature.\n",
      "['Never-married' 'Married-civ-spouse' 'Divorced' 'Married-spouse-absent'\n",
      " 'Separated' 'Married-AF-spouse' 'Widowed'] \n",
      "\n",
      "****************************************\n",
      "Unique values in occupation feature.\n",
      "['Adm-clerical' 'Exec-managerial' 'Handlers-cleaners' 'Prof-specialty'\n",
      " 'Other-service' 'Sales' 'Craft-repair' 'Transport-moving'\n",
      " 'Farming-fishing' 'Machine-op-inspct' 'Tech-support' '?'\n",
      " 'Protective-serv' 'Armed-Forces' 'Priv-house-serv'] \n",
      "\n",
      "****************************************\n",
      "Unique values in relationship feature.\n",
      "['Not-in-family' 'Husband' 'Wife' 'Own-child' 'Unmarried' 'Other-relative'] \n",
      "\n",
      "****************************************\n",
      "Unique values in race feature.\n",
      "['White' 'Black' 'Asian-Pac-Islander' 'Amer-Indian-Eskimo' 'Other'] \n",
      "\n",
      "****************************************\n",
      "Unique values in sex feature.\n",
      "['Male' 'Female'] \n",
      "\n",
      "****************************************\n",
      "Unique values in capital-gain feature.\n",
      "[ 2174     0 14084  5178  5013  2407 14344 15024  7688 34095  4064  4386\n",
      "  7298  1409  3674  1055  3464  2050  2176   594 20051  6849  4101  1111\n",
      "  8614  3411  2597 25236  4650  9386  2463  3103 10605  2964  3325  2580\n",
      "  3471  4865 99999  6514  1471  2329  2105  2885 25124 10520  2202  2961\n",
      " 27828  6767  2228  1506 13550  2635  5556  4787  3781  3137  3818  3942\n",
      "   914   401  2829  2977  4934  2062  2354  5455 15020  1424  3273 22040\n",
      "  4416  3908 10566   991  4931  1086  7430  6497   114  7896  2346  3418\n",
      "  3432  2907  1151  2414  2290 15831 41310  4508  2538  3456  6418  1848\n",
      "  3887  5721  9562  1455  2036  1831 11678  2936  2993  7443  6360  1797\n",
      "  1173  4687  6723  2009  6097  2653  1639 18481  7978  2387  5060] \n",
      "\n",
      "****************************************\n",
      "Unique values in capital-loss feature.\n",
      "[   0 2042 1408 1902 1573 1887 1719 1762 1564 2179 1816 1980 1977 1876\n",
      " 1340 2206 1741 1485 2339 2415 1380 1721 2051 2377 1669 2352 1672  653\n",
      " 2392 1504 2001 1590 1651 1628 1848 1740 2002 1579 2258 1602  419 2547\n",
      " 2174 2205 1726 2444 1138 2238  625  213 1539  880 1668 1092 1594 3004\n",
      " 2231 1844  810 2824 2559 2057 1974  974 2149 1825 1735 1258 2129 2603\n",
      " 2282  323 4356 2246 1617 1648 2489 3770 1755 3683 2267 2080 2457  155\n",
      " 3900 2201 1944 2467 2163 2754 2472 1411] \n",
      "\n",
      "****************************************\n",
      "Unique values in hours-per-week feature.\n",
      "[40 13 16 45 50 80 30 35 60 20 52 44 15 25 38 43 55 48 58 32 70  2 22 56\n",
      " 41 28 36 24 46 42 12 65  1 10 34 75 98 33 54  8  6 64 19 18 72  5  9 47\n",
      " 37 21 26 14  4 59  7 99 53 39 62 57 78 90 66 11 49 84  3 17 68 27 85 31\n",
      " 51 77 63 23 87 88 73 89 97 94 29 96 67 82 86 91 81 76 92 61 74 95] \n",
      "\n",
      "****************************************\n",
      "Unique values in native-country feature.\n",
      "['United-States' 'Cuba' 'Jamaica' 'India' '?' 'Mexico' 'South'\n",
      " 'Puerto-Rico' 'Honduras' 'England' 'Canada' 'Germany' 'Iran'\n",
      " 'Philippines' 'Italy' 'Poland' 'Columbia' 'Cambodia' 'Thailand' 'Ecuador'\n",
      " 'Laos' 'Taiwan' 'Haiti' 'Portugal' 'Dominican-Republic' 'El-Salvador'\n",
      " 'France' 'Guatemala' 'China' 'Japan' 'Yugoslavia' 'Peru'\n",
      " 'Outlying-US(Guam-USVI-etc)' 'Scotland' 'Trinadad&Tobago' 'Greece'\n",
      " 'Nicaragua' 'Vietnam' 'Hong' 'Ireland' 'Hungary' 'Holand-Netherlands'] \n",
      "\n",
      "****************************************\n",
      "Unique values in salary feature.\n",
      "['<=50K' '>50K'] \n",
      "\n",
      "****************************************\n"
     ]
    }
   ],
   "source": [
    "unique_checker(data) #scroll / toggle output to view all outputs\n",
    "\n",
    "# Note:\n",
    "## this step is just for the Data Understanding part\n",
    "### Not intergral to the straightforward analysis "
   ]
  },
  {
   "cell_type": "code",
   "execution_count": 10,
   "metadata": {
    "id": "J2x9_-g86crN"
   },
   "outputs": [],
   "source": [
    "def count_checker(data):\n",
    "    \"\"\"count of each value under each feature in the data\"\"\"\n",
    "    for col in data.columns:\n",
    "        print(\"Count for each category of values in {} feature.\".format(col))\n",
    "        print(data[col].value_counts(),\"\\n\")\n",
    "        print(\"*\"*40)"
   ]
  },
  {
   "cell_type": "code",
   "execution_count": 11,
   "metadata": {
    "colab": {
     "base_uri": "https://localhost:8080/"
    },
    "id": "uz2c19Gv6iFr",
    "outputId": "e04c4727-1e14-46e3-e82f-d82c88dc5815"
   },
   "outputs": [
    {
     "name": "stdout",
     "output_type": "stream",
     "text": [
      "Count for each category of values in age feature.\n",
      "36    898\n",
      "31    888\n",
      "34    886\n",
      "23    877\n",
      "35    876\n",
      "     ... \n",
      "83      6\n",
      "88      3\n",
      "85      3\n",
      "86      1\n",
      "87      1\n",
      "Name: age, Length: 73, dtype: int64 \n",
      "\n",
      "****************************************\n",
      "Count for each category of values in workclass feature.\n",
      "Private             22696\n",
      "Self-emp-not-inc     2541\n",
      "Local-gov            2093\n",
      "?                    1836\n",
      "State-gov            1298\n",
      "Self-emp-inc         1116\n",
      "Federal-gov           960\n",
      "Without-pay            14\n",
      "Never-worked            7\n",
      "Name: workclass, dtype: int64 \n",
      "\n",
      "****************************************\n",
      "Count for each category of values in education feature.\n",
      "HS-grad         10501\n",
      "Some-college     7291\n",
      "Bachelors        5355\n",
      "Masters          1723\n",
      "Assoc-voc        1382\n",
      "11th             1175\n",
      "Assoc-acdm       1067\n",
      "10th              933\n",
      "7th-8th           646\n",
      "Prof-school       576\n",
      "9th               514\n",
      "12th              433\n",
      "Doctorate         413\n",
      "5th-6th           333\n",
      "1st-4th           168\n",
      "Preschool          51\n",
      "Name: education, dtype: int64 \n",
      "\n",
      "****************************************\n",
      "Count for each category of values in education-num feature.\n",
      "9     10501\n",
      "10     7291\n",
      "13     5355\n",
      "14     1723\n",
      "11     1382\n",
      "7      1175\n",
      "12     1067\n",
      "6       933\n",
      "4       646\n",
      "15      576\n",
      "5       514\n",
      "8       433\n",
      "16      413\n",
      "3       333\n",
      "2       168\n",
      "1        51\n",
      "Name: education-num, dtype: int64 \n",
      "\n",
      "****************************************\n",
      "Count for each category of values in marital-status feature.\n",
      "Married-civ-spouse       14976\n",
      "Never-married            10683\n",
      "Divorced                  4443\n",
      "Separated                 1025\n",
      "Widowed                    993\n",
      "Married-spouse-absent      418\n",
      "Married-AF-spouse           23\n",
      "Name: marital-status, dtype: int64 \n",
      "\n",
      "****************************************\n",
      "Count for each category of values in occupation feature.\n",
      "Prof-specialty       4140\n",
      "Craft-repair         4099\n",
      "Exec-managerial      4066\n",
      "Adm-clerical         3770\n",
      "Sales                3650\n",
      "Other-service        3295\n",
      "Machine-op-inspct    2002\n",
      "?                    1843\n",
      "Transport-moving     1597\n",
      "Handlers-cleaners    1370\n",
      "Farming-fishing       994\n",
      "Tech-support          928\n",
      "Protective-serv       649\n",
      "Priv-house-serv       149\n",
      "Armed-Forces            9\n",
      "Name: occupation, dtype: int64 \n",
      "\n",
      "****************************************\n",
      "Count for each category of values in relationship feature.\n",
      "Husband           13193\n",
      "Not-in-family      8305\n",
      "Own-child          5068\n",
      "Unmarried          3446\n",
      "Wife               1568\n",
      "Other-relative      981\n",
      "Name: relationship, dtype: int64 \n",
      "\n",
      "****************************************\n",
      "Count for each category of values in race feature.\n",
      "White                 27816\n",
      "Black                  3124\n",
      "Asian-Pac-Islander     1039\n",
      "Amer-Indian-Eskimo      311\n",
      "Other                   271\n",
      "Name: race, dtype: int64 \n",
      "\n",
      "****************************************\n",
      "Count for each category of values in sex feature.\n",
      "Male      21790\n",
      "Female    10771\n",
      "Name: sex, dtype: int64 \n",
      "\n",
      "****************************************\n",
      "Count for each category of values in capital-gain feature.\n",
      "0        29849\n",
      "15024      347\n",
      "7688       284\n",
      "7298       246\n",
      "99999      159\n",
      "         ...  \n",
      "1111         1\n",
      "2538         1\n",
      "22040        1\n",
      "4931         1\n",
      "5060         1\n",
      "Name: capital-gain, Length: 119, dtype: int64 \n",
      "\n",
      "****************************************\n",
      "Count for each category of values in capital-loss feature.\n",
      "0       31042\n",
      "1902      202\n",
      "1977      168\n",
      "1887      159\n",
      "1848       51\n",
      "        ...  \n",
      "2080        1\n",
      "1539        1\n",
      "1844        1\n",
      "2489        1\n",
      "1411        1\n",
      "Name: capital-loss, Length: 92, dtype: int64 \n",
      "\n",
      "****************************************\n",
      "Count for each category of values in hours-per-week feature.\n",
      "40    15217\n",
      "50     2819\n",
      "45     1824\n",
      "60     1475\n",
      "35     1297\n",
      "      ...  \n",
      "82        1\n",
      "92        1\n",
      "87        1\n",
      "74        1\n",
      "94        1\n",
      "Name: hours-per-week, Length: 94, dtype: int64 \n",
      "\n",
      "****************************************\n",
      "Count for each category of values in native-country feature.\n",
      "United-States                 29170\n",
      "Mexico                          643\n",
      "?                               583\n",
      "Philippines                     198\n",
      "Germany                         137\n",
      "Canada                          121\n",
      "Puerto-Rico                     114\n",
      "El-Salvador                     106\n",
      "India                           100\n",
      "Cuba                             95\n",
      "England                          90\n",
      "Jamaica                          81\n",
      "South                            80\n",
      "China                            75\n",
      "Italy                            73\n",
      "Dominican-Republic               70\n",
      "Vietnam                          67\n",
      "Guatemala                        64\n",
      "Japan                            62\n",
      "Poland                           60\n",
      "Columbia                         59\n",
      "Taiwan                           51\n",
      "Haiti                            44\n",
      "Iran                             43\n",
      "Portugal                         37\n",
      "Nicaragua                        34\n",
      "Peru                             31\n",
      "France                           29\n",
      "Greece                           29\n",
      "Ecuador                          28\n",
      "Ireland                          24\n",
      "Hong                             20\n",
      "Cambodia                         19\n",
      "Trinadad&Tobago                  19\n",
      "Laos                             18\n",
      "Thailand                         18\n",
      "Yugoslavia                       16\n",
      "Outlying-US(Guam-USVI-etc)       14\n",
      "Honduras                         13\n",
      "Hungary                          13\n",
      "Scotland                         12\n",
      "Holand-Netherlands                1\n",
      "Name: native-country, dtype: int64 \n",
      "\n",
      "****************************************\n",
      "Count for each category of values in salary feature.\n",
      "<=50K    24720\n",
      ">50K      7841\n",
      "Name: salary, dtype: int64 \n",
      "\n",
      "****************************************\n"
     ]
    }
   ],
   "source": [
    "count_checker(data) #scroll / toggle output to view all outputs\n",
    "# Note:\n",
    "## this step is just for the Data Understanding part\n",
    "### Not intergral to the straightforward analysis "
   ]
  },
  {
   "cell_type": "markdown",
   "metadata": {
    "id": "BzNiQA2Y2MBK"
   },
   "source": [
    "**Findings**\n",
    "\n",
    "- The dataset contains 48,842 entries with a total of 15 columns representing different attributes of the people. Here’s the list;\n",
    "\n",
    "1. Age: Discrete (from 17 to 90)\n",
    "2. Work class (Private, Federal-Government, etc): Nominal (9 categories)\n",
    "3. Final Weight (the number of people the census believes the entry represents): Discrete\n",
    "4. Education (the highest level of education obtained): Ordinal (16 categories)\n",
    "5. Education Number (the number of years of education): Discrete (from 1 to 16)\n",
    "6. Marital Status: Nominal (7 categories)\n",
    "7. Occupation (Transport-Moving, Craft-Repair, etc): Nominal (15 categories)\n",
    "8. Relationship in family (unmarried, not in the family, etc): Nominal (6 categories)\n",
    "9. Race: Nominal (5 categories)\n",
    "10. Sex: Nominal (2 categories)\n",
    "11. Capital Gain: Continous\n",
    "12. Capital Loss: Continous\n",
    "13. Hours (worked) per week: Discrete (from 1 to 99)\n",
    "14. Native Country: Nominal (42 countries)\n",
    "15. Salary (whether or not an individual makes more than 50,000 dollar annually):     Boolean (≤50k, >50k)"
   ]
  },
  {
   "cell_type": "code",
   "execution_count": 12,
   "metadata": {
    "colab": {
     "base_uri": "https://localhost:8080/"
    },
    "id": "QXWlBiWoMxQm",
    "outputId": "2170e078-9a08-4d20-c6d3-adc87a84277e"
   },
   "outputs": [
    {
     "data": {
      "text/plain": [
       "Index(['age', 'workclass', 'education', 'education-num', 'marital-status',\n",
       "       'occupation', 'relationship', 'race', 'sex', 'capital-gain',\n",
       "       'capital-loss', 'hours-per-week', 'native-country', 'salary'],\n",
       "      dtype='object')"
      ]
     },
     "execution_count": 12,
     "metadata": {},
     "output_type": "execute_result"
    }
   ],
   "source": [
    "#creating a Dataframe from the given dataset\n",
    "df = pd.DataFrame(data)\n",
    "df.columns"
   ]
  },
  {
   "cell_type": "markdown",
   "metadata": {
    "id": "-o4mYva5MxuD"
   },
   "source": [
    "### Renaming the columns"
   ]
  },
  {
   "cell_type": "code",
   "execution_count": 13,
   "metadata": {
    "colab": {
     "base_uri": "https://localhost:8080/"
    },
    "id": "bjMx24aWMtgu",
    "outputId": "d8d6f1b9-35b9-42e9-b6e8-f704c46ce15f"
   },
   "outputs": [
    {
     "data": {
      "text/plain": [
       "Index(['age', 'workclass', 'education', 'education-num', 'marital',\n",
       "       'occupation', 'relationship', 'race', 'sex', 'capital_gain',\n",
       "       'capital_loss', 'hours_per_week', 'country', 'salary'],\n",
       "      dtype='object')"
      ]
     },
     "execution_count": 13,
     "metadata": {},
     "output_type": "execute_result"
    }
   ],
   "source": [
    "\n",
    "#replacing some special character columns names with proper names \n",
    "df.rename(columns={'capital-gain': 'capital_gain', 'capital-loss': 'capital_loss', 'native-country': 'country','hours-per-week': 'hours_per_week','marital-status': 'marital'}, inplace=True)\n",
    "df.columns"
   ]
  },
  {
   "cell_type": "markdown",
   "metadata": {
    "id": "n0D1suJm6_uS"
   },
   "source": [
    "### Data Cleaning"
   ]
  },
  {
   "cell_type": "markdown",
   "metadata": {
    "id": "1_kElLutJX5V"
   },
   "source": [
    "### 1. Missing Values"
   ]
  },
  {
   "cell_type": "code",
   "execution_count": 14,
   "metadata": {
    "colab": {
     "base_uri": "https://localhost:8080/"
    },
    "id": "Ru9Hf2zQ7EpQ",
    "outputId": "ecdccde4-a809-4436-8723-378ee585168f"
   },
   "outputs": [
    {
     "data": {
      "text/plain": [
       "age               0\n",
       "workclass         0\n",
       "education         0\n",
       "education-num     0\n",
       "marital           0\n",
       "occupation        0\n",
       "relationship      0\n",
       "race              0\n",
       "sex               0\n",
       "capital_gain      0\n",
       "capital_loss      0\n",
       "hours_per_week    0\n",
       "country           0\n",
       "salary            0\n",
       "dtype: int64"
      ]
     },
     "execution_count": 14,
     "metadata": {},
     "output_type": "execute_result"
    }
   ],
   "source": [
    " #check the missing value\n",
    "df.isnull().sum()"
   ]
  },
  {
   "cell_type": "code",
   "execution_count": null,
   "metadata": {
    "id": "gJIBfPzfN3SV"
   },
   "outputs": [],
   "source": []
  },
  {
   "cell_type": "markdown",
   "metadata": {
    "id": "qMXX4jxdN37I"
   },
   "source": [
    "**Above sum shows there are no null values in the dataset.**"
   ]
  },
  {
   "cell_type": "code",
   "execution_count": 15,
   "metadata": {
    "colab": {
     "base_uri": "https://localhost:8080/"
    },
    "id": "V7sDlg00JpPZ",
    "outputId": "e23063ae-616d-493f-dfe1-77dc6416f045"
   },
   "outputs": [
    {
     "data": {
      "text/plain": [
       "age                  0\n",
       "workclass         1836\n",
       "education            0\n",
       "education-num        0\n",
       "marital              0\n",
       "occupation        1843\n",
       "relationship         0\n",
       "race                 0\n",
       "sex                  0\n",
       "capital_gain         0\n",
       "capital_loss         0\n",
       "hours_per_week       0\n",
       "country            583\n",
       "salary               0\n",
       "dtype: int64"
      ]
     },
     "execution_count": 15,
     "metadata": {},
     "output_type": "execute_result"
    }
   ],
   "source": [
    "#we can see that there are some special characters in the data like ‘?’.\n",
    "#Finding the special characters in the data frame\n",
    "df.isin(['?']).sum(axis=0)"
   ]
  },
  {
   "cell_type": "markdown",
   "metadata": {
    "id": "5rAbmNKLNsEa"
   },
   "source": [
    "**Findings**\n",
    "\n",
    "- we see that there is a special character as \" ?\" for columns workcalss, Occupation, and country, we need to clean those data. \n",
    "- In this case, as the missing value fall into the categorical features, we will use the pandas DataFrame mode() method to fill the missing value."
   ]
  },
  {
   "cell_type": "code",
   "execution_count": 16,
   "metadata": {
    "id": "zMxpUAr_OdBi"
   },
   "outputs": [],
   "source": [
    "#Handling missing values\n",
    "# the code will replace the special character to nan  \n",
    "df['country'] = df['country'].replace('?',np.nan)\n",
    "df['workclass'] = df['workclass'].replace('?',np.nan)\n",
    "df['occupation'] = df['occupation'].replace('?',np.nan)\n",
    "\n"
   ]
  },
  {
   "cell_type": "code",
   "execution_count": 17,
   "metadata": {
    "colab": {
     "base_uri": "https://localhost:8080/"
    },
    "id": "YHSfyaD2sn9E",
    "outputId": "50bb6bb4-6c9c-4334-c69b-c0e01ce70ec9"
   },
   "outputs": [
    {
     "data": {
      "text/plain": [
       "age                  0\n",
       "workclass         1836\n",
       "education            0\n",
       "education-num        0\n",
       "marital              0\n",
       "occupation        1843\n",
       "relationship         0\n",
       "race                 0\n",
       "sex                  0\n",
       "capital_gain         0\n",
       "capital_loss         0\n",
       "hours_per_week       0\n",
       "country            583\n",
       "salary               0\n",
       "dtype: int64"
      ]
     },
     "execution_count": 17,
     "metadata": {},
     "output_type": "execute_result"
    }
   ],
   "source": [
    "\n",
    "df.isnull().sum()"
   ]
  },
  {
   "cell_type": "code",
   "execution_count": 18,
   "metadata": {
    "id": "IkLWBnPiPl-P"
   },
   "outputs": [],
   "source": [
    "#we will use the pandas DataFrame mode() method to fill the missing value.\n",
    "df = df.fillna(df.mode().iloc[0])"
   ]
  },
  {
   "cell_type": "code",
   "execution_count": 19,
   "metadata": {
    "colab": {
     "base_uri": "https://localhost:8080/"
    },
    "id": "XstODt29sn9F",
    "outputId": "b75ab508-2514-4a3e-dfd6-63e61f758327"
   },
   "outputs": [
    {
     "data": {
      "text/plain": [
       "age               0\n",
       "workclass         0\n",
       "education         0\n",
       "education-num     0\n",
       "marital           0\n",
       "occupation        0\n",
       "relationship      0\n",
       "race              0\n",
       "sex               0\n",
       "capital_gain      0\n",
       "capital_loss      0\n",
       "hours_per_week    0\n",
       "country           0\n",
       "salary            0\n",
       "dtype: int64"
      ]
     },
     "execution_count": 19,
     "metadata": {},
     "output_type": "execute_result"
    }
   ],
   "source": [
    "df.isnull().sum()"
   ]
  },
  {
   "cell_type": "markdown",
   "metadata": {
    "id": "_JBr7O5ksn9G"
   },
   "source": [
    "### 2. Remove duplicate data "
   ]
  },
  {
   "cell_type": "code",
   "execution_count": 20,
   "metadata": {
    "colab": {
     "base_uri": "https://localhost:8080/"
    },
    "id": "cGYaHaP4sn9G",
    "outputId": "71ae500c-275e-40fa-a7b3-526dcd7f2dbb"
   },
   "outputs": [
    {
     "data": {
      "text/plain": [
       "3591"
      ]
     },
     "execution_count": 20,
     "metadata": {},
     "output_type": "execute_result"
    }
   ],
   "source": [
    "#Checking for duplicated entries\n",
    "sum(df.duplicated(df.columns))"
   ]
  },
  {
   "cell_type": "code",
   "execution_count": 21,
   "metadata": {
    "colab": {
     "base_uri": "https://localhost:8080/"
    },
    "id": "g2k_WAN7sn9H",
    "outputId": "185aebb2-c83a-4f5e-8455-15768c643092"
   },
   "outputs": [
    {
     "data": {
      "text/plain": [
       "0"
      ]
     },
     "execution_count": 21,
     "metadata": {},
     "output_type": "execute_result"
    }
   ],
   "source": [
    "#Delete the duplicates and check that it worked\n",
    "df = df.drop_duplicates(df.columns, keep='last')\n",
    "sum(df.duplicated(df.columns))"
   ]
  },
  {
   "cell_type": "code",
   "execution_count": 22,
   "metadata": {
    "colab": {
     "base_uri": "https://localhost:8080/"
    },
    "id": "daVhJlX4sn9H",
    "outputId": "96fd3248-4c15-4614-8f56-7ef2a2234e87"
   },
   "outputs": [
    {
     "data": {
      "text/plain": [
       "(28970, 14)"
      ]
     },
     "execution_count": 22,
     "metadata": {},
     "output_type": "execute_result"
    }
   ],
   "source": [
    "df.shape"
   ]
  },
  {
   "cell_type": "code",
   "execution_count": 23,
   "metadata": {
    "colab": {
     "base_uri": "https://localhost:8080/"
    },
    "id": "kaDebLqAsn9I",
    "outputId": "77af7280-95e4-403a-b124-0abbdff2bca9",
    "scrolled": true
   },
   "outputs": [
    {
     "data": {
      "text/plain": [
       "Index(['age', 'workclass', 'education', 'education-num', 'marital',\n",
       "       'occupation', 'relationship', 'race', 'sex', 'capital_gain',\n",
       "       'capital_loss', 'hours_per_week', 'country', 'salary'],\n",
       "      dtype='object')"
      ]
     },
     "execution_count": 23,
     "metadata": {},
     "output_type": "execute_result"
    }
   ],
   "source": [
    "df.columns"
   ]
  },
  {
   "cell_type": "markdown",
   "metadata": {
    "id": "IE8Z-1Lrsn9J"
   },
   "source": [
    "### 3. Handling Outliers"
   ]
  },
  {
   "cell_type": "code",
   "execution_count": 24,
   "metadata": {
    "colab": {
     "base_uri": "https://localhost:8080/",
     "height": 1000
    },
    "id": "ALhirEabsn9J",
    "outputId": "6e594250-0b81-4bbb-94ca-aecc9d734015",
    "scrolled": true
   },
   "outputs": [
    {
     "data": {
      "image/png": "[encoded data removed]",
      "text/plain": [
       "<Figure size 640x480 with 1 Axes>"
      ]
     },
     "metadata": {},
     "output_type": "display_data"
    },
    {
     "data": {
      "image/png": "[encoded data removed]",
      "text/plain": [
       "<Figure size 640x480 with 1 Axes>"
      ]
     },
     "metadata": {},
     "output_type": "display_data"
    },
    {
     "data": {
      "image/png": "[encoded data removed]",
      "text/plain": [
       "<Figure size 640x480 with 1 Axes>"
      ]
     },
     "metadata": {},
     "output_type": "display_data"
    },
    {
     "data": {
      "image/png": "[encoded data removed]",
      "text/plain": [
       "<Figure size 640x480 with 1 Axes>"
      ]
     },
     "metadata": {},
     "output_type": "display_data"
    }
   ],
   "source": [
    "## checking outliers\n",
    "for i in ['age',\n",
    "       'capital_gain','capital_loss','hours_per_week'] :\n",
    "    plt.title(i)\n",
    "    sns.boxplot(data=df[i])\n",
    "    plt.show()  \n"
   ]
  },
  {
   "cell_type": "code",
   "execution_count": 25,
   "metadata": {
    "colab": {
     "base_uri": "https://localhost:8080/",
     "height": 406
    },
    "id": "FyC8-OH8sn9K",
    "outputId": "b42832ff-0a31-4dd5-de6b-65353c3d6792"
   },
   "outputs": [],
   "source": [
    "#df1=df\n",
    "#df1.head()"
   ]
  },
  {
   "cell_type": "markdown",
   "metadata": {
    "id": "Kwk-b2uSsn9K"
   },
   "source": [
    "### Handling Outliers with age"
   ]
  },
  {
   "cell_type": "code",
   "execution_count": 26,
   "metadata": {
    "id": "wiePXQLisn9K"
   },
   "outputs": [],
   "source": [
    "q1 = np.percentile(df['age'],25,interpolation='midpoint')\n",
    "q3 = np.percentile(df['age'],75,interpolation='midpoint')\n",
    "\n",
    "IQR = q3-q1\n",
    "low_limit=q1-1.5*IQR\n",
    "high_limit=q3+1.5*IQR\n",
    "\n",
    "index=df['age'][(df['age']<low_limit)|(df['age']>high_limit)].index\n",
    "df.drop(index,inplace=True)"
   ]
  },
  {
   "cell_type": "markdown",
   "metadata": {
    "id": "7cfmEfpasn9M"
   },
   "source": [
    "### Handling Outliers with capital_gain"
   ]
  },
  {
   "cell_type": "code",
   "execution_count": 27,
   "metadata": {
    "id": "Da-VnQBusn9N"
   },
   "outputs": [],
   "source": [
    "q1 = np.percentile(df['hours_per_week'],25,interpolation='midpoint')\n",
    "q3 = np.percentile(df['hours_per_week'],75,interpolation='midpoint')\n",
    "\n",
    "IQR = q3-q1\n",
    "low_limit=q1-1.5*IQR\n",
    "high_limit=q3+1.5*IQR\n",
    "\n",
    "index=df['hours_per_week'][(df['hours_per_week']<low_limit)|(df['hours_per_week']>high_limit)].index\n",
    "df.drop(index,inplace=True)"
   ]
  },
  {
   "cell_type": "markdown",
   "metadata": {
    "id": "S5uCEaNEsn9O"
   },
   "source": [
    "### 5. Exploratory Data analysis"
   ]
  },
  {
   "cell_type": "markdown",
   "metadata": {
    "id": "omgX4x_1sn9P"
   },
   "source": [
    "#### Check descriptive statistics - Numerical columns"
   ]
  },
  {
   "cell_type": "code",
   "execution_count": 28,
   "metadata": {
    "colab": {
     "base_uri": "https://localhost:8080/",
     "height": 300
    },
    "id": "iAyoS8vssn9P",
    "outputId": "ad078fa4-5928-4cf2-e18e-8127fdfa189a"
   },
   "outputs": [
    {
     "data": {
      "text/html": [
       "<div>\n",
       "<style scoped>\n",
       "    .dataframe tbody tr th:only-of-type {\n",
       "        vertical-align: middle;\n",
       "    }\n",
       "\n",
       "    .dataframe tbody tr th {\n",
       "        vertical-align: top;\n",
       "    }\n",
       "\n",
       "    .dataframe thead th {\n",
       "        text-align: right;\n",
       "    }\n",
       "</style>\n",
       "<table border=\"1\" class=\"dataframe\">\n",
       "  <thead>\n",
       "    <tr style=\"text-align: right;\">\n",
       "      <th></th>\n",
       "      <th>age</th>\n",
       "      <th>education-num</th>\n",
       "      <th>capital_gain</th>\n",
       "      <th>capital_loss</th>\n",
       "      <th>hours_per_week</th>\n",
       "    </tr>\n",
       "  </thead>\n",
       "  <tbody>\n",
       "    <tr>\n",
       "      <th>count</th>\n",
       "      <td>20468.000000</td>\n",
       "      <td>20468.000000</td>\n",
       "      <td>20468.000000</td>\n",
       "      <td>20468.000000</td>\n",
       "      <td>20468.000000</td>\n",
       "    </tr>\n",
       "    <tr>\n",
       "      <th>mean</th>\n",
       "      <td>39.333838</td>\n",
       "      <td>10.119797</td>\n",
       "      <td>1127.431845</td>\n",
       "      <td>100.393443</td>\n",
       "      <td>41.673441</td>\n",
       "    </tr>\n",
       "    <tr>\n",
       "      <th>std</th>\n",
       "      <td>12.211260</td>\n",
       "      <td>2.627231</td>\n",
       "      <td>7149.224082</td>\n",
       "      <td>428.671634</td>\n",
       "      <td>4.145915</td>\n",
       "    </tr>\n",
       "    <tr>\n",
       "      <th>min</th>\n",
       "      <td>17.000000</td>\n",
       "      <td>1.000000</td>\n",
       "      <td>0.000000</td>\n",
       "      <td>0.000000</td>\n",
       "      <td>33.000000</td>\n",
       "    </tr>\n",
       "    <tr>\n",
       "      <th>25%</th>\n",
       "      <td>30.000000</td>\n",
       "      <td>9.000000</td>\n",
       "      <td>0.000000</td>\n",
       "      <td>0.000000</td>\n",
       "      <td>40.000000</td>\n",
       "    </tr>\n",
       "    <tr>\n",
       "      <th>50%</th>\n",
       "      <td>38.000000</td>\n",
       "      <td>10.000000</td>\n",
       "      <td>0.000000</td>\n",
       "      <td>0.000000</td>\n",
       "      <td>40.000000</td>\n",
       "    </tr>\n",
       "    <tr>\n",
       "      <th>75%</th>\n",
       "      <td>48.000000</td>\n",
       "      <td>13.000000</td>\n",
       "      <td>0.000000</td>\n",
       "      <td>0.000000</td>\n",
       "      <td>44.000000</td>\n",
       "    </tr>\n",
       "    <tr>\n",
       "      <th>max</th>\n",
       "      <td>78.000000</td>\n",
       "      <td>16.000000</td>\n",
       "      <td>99999.000000</td>\n",
       "      <td>4356.000000</td>\n",
       "      <td>52.000000</td>\n",
       "    </tr>\n",
       "  </tbody>\n",
       "</table>\n",
       "</div>"
      ],
      "text/plain": [
       "                age  education-num  capital_gain  capital_loss  hours_per_week\n",
       "count  20468.000000   20468.000000  20468.000000  20468.000000    20468.000000\n",
       "mean      39.333838      10.119797   1127.431845    100.393443       41.673441\n",
       "std       12.211260       2.627231   7149.224082    428.671634        4.145915\n",
       "min       17.000000       1.000000      0.000000      0.000000       33.000000\n",
       "25%       30.000000       9.000000      0.000000      0.000000       40.000000\n",
       "50%       38.000000      10.000000      0.000000      0.000000       40.000000\n",
       "75%       48.000000      13.000000      0.000000      0.000000       44.000000\n",
       "max       78.000000      16.000000  99999.000000   4356.000000       52.000000"
      ]
     },
     "execution_count": 28,
     "metadata": {},
     "output_type": "execute_result"
    }
   ],
   "source": [
    "df.describe()"
   ]
  },
  {
   "cell_type": "markdown",
   "metadata": {
    "id": "l5rA1eYBsn9Q"
   },
   "source": [
    "#### Check descriptive statistics - Categorical columns"
   ]
  },
  {
   "cell_type": "code",
   "execution_count": 29,
   "metadata": {
    "colab": {
     "base_uri": "https://localhost:8080/",
     "height": 175
    },
    "id": "o1HtIhRbsn9Q",
    "outputId": "e5800675-adbf-43e9-8134-62ea57d5b409"
   },
   "outputs": [
    {
     "data": {
      "text/html": [
       "<div>\n",
       "<style scoped>\n",
       "    .dataframe tbody tr th:only-of-type {\n",
       "        vertical-align: middle;\n",
       "    }\n",
       "\n",
       "    .dataframe tbody tr th {\n",
       "        vertical-align: top;\n",
       "    }\n",
       "\n",
       "    .dataframe thead th {\n",
       "        text-align: right;\n",
       "    }\n",
       "</style>\n",
       "<table border=\"1\" class=\"dataframe\">\n",
       "  <thead>\n",
       "    <tr style=\"text-align: right;\">\n",
       "      <th></th>\n",
       "      <th>workclass</th>\n",
       "      <th>education</th>\n",
       "      <th>marital</th>\n",
       "      <th>occupation</th>\n",
       "      <th>relationship</th>\n",
       "      <th>race</th>\n",
       "      <th>sex</th>\n",
       "      <th>country</th>\n",
       "      <th>salary</th>\n",
       "    </tr>\n",
       "  </thead>\n",
       "  <tbody>\n",
       "    <tr>\n",
       "      <th>count</th>\n",
       "      <td>20468</td>\n",
       "      <td>20468</td>\n",
       "      <td>20468</td>\n",
       "      <td>20468</td>\n",
       "      <td>20468</td>\n",
       "      <td>20468</td>\n",
       "      <td>20468</td>\n",
       "      <td>20468</td>\n",
       "      <td>20468</td>\n",
       "    </tr>\n",
       "    <tr>\n",
       "      <th>unique</th>\n",
       "      <td>8</td>\n",
       "      <td>16</td>\n",
       "      <td>7</td>\n",
       "      <td>14</td>\n",
       "      <td>6</td>\n",
       "      <td>5</td>\n",
       "      <td>2</td>\n",
       "      <td>41</td>\n",
       "      <td>2</td>\n",
       "    </tr>\n",
       "    <tr>\n",
       "      <th>top</th>\n",
       "      <td>Private</td>\n",
       "      <td>HS-grad</td>\n",
       "      <td>Married-civ-spouse</td>\n",
       "      <td>Prof-specialty</td>\n",
       "      <td>Husband</td>\n",
       "      <td>White</td>\n",
       "      <td>Male</td>\n",
       "      <td>United-States</td>\n",
       "      <td>&lt;=50K</td>\n",
       "    </tr>\n",
       "    <tr>\n",
       "      <th>freq</th>\n",
       "      <td>15047</td>\n",
       "      <td>6447</td>\n",
       "      <td>9623</td>\n",
       "      <td>3529</td>\n",
       "      <td>8397</td>\n",
       "      <td>16960</td>\n",
       "      <td>13792</td>\n",
       "      <td>18372</td>\n",
       "      <td>15092</td>\n",
       "    </tr>\n",
       "  </tbody>\n",
       "</table>\n",
       "</div>"
      ],
      "text/plain": [
       "       workclass education             marital      occupation relationship  \\\n",
       "count      20468     20468               20468           20468        20468   \n",
       "unique         8        16                   7              14            6   \n",
       "top      Private   HS-grad  Married-civ-spouse  Prof-specialty      Husband   \n",
       "freq       15047      6447                9623            3529         8397   \n",
       "\n",
       "         race    sex        country salary  \n",
       "count   20468  20468          20468  20468  \n",
       "unique      5      2             41      2  \n",
       "top     White   Male  United-States  <=50K  \n",
       "freq    16960  13792          18372  15092  "
      ]
     },
     "execution_count": 29,
     "metadata": {},
     "output_type": "execute_result"
    }
   ],
   "source": [
    "df.describe(exclude='number')"
   ]
  },
  {
   "cell_type": "markdown",
   "metadata": {
    "id": "4n9NsiA2sn9S"
   },
   "source": [
    "### 6. Feature Reduction "
   ]
  },
  {
   "cell_type": "markdown",
   "metadata": {
    "id": "UE3vs3p-sn9T"
   },
   "source": [
    "- While analyzing the dataset, \n",
    "- As we can see in 'descriptive statistics - Numerical columns',\n",
    "    - 'capital-gain'and 'capital-loss' both columns have 75% data as 0.00\n",
    "            - So, we can drop 'capital-gain'& 'capital-loss' both columns. \n",
    "- The column,education-num is the numerical version of the column education, so we also drop it."
   ]
  },
  {
   "cell_type": "code",
   "execution_count": 30,
   "metadata": {
    "colab": {
     "base_uri": "https://localhost:8080/",
     "height": 206
    },
    "id": "74pqK5Nhsn9T",
    "outputId": "f7dc1feb-8d65-4a13-abd7-0c1822b2ab89"
   },
   "outputs": [
    {
     "data": {
      "text/html": [
       "<div>\n",
       "<style scoped>\n",
       "    .dataframe tbody tr th:only-of-type {\n",
       "        vertical-align: middle;\n",
       "    }\n",
       "\n",
       "    .dataframe tbody tr th {\n",
       "        vertical-align: top;\n",
       "    }\n",
       "\n",
       "    .dataframe thead th {\n",
       "        text-align: right;\n",
       "    }\n",
       "</style>\n",
       "<table border=\"1\" class=\"dataframe\">\n",
       "  <thead>\n",
       "    <tr style=\"text-align: right;\">\n",
       "      <th></th>\n",
       "      <th>age</th>\n",
       "      <th>workclass</th>\n",
       "      <th>education</th>\n",
       "      <th>marital</th>\n",
       "      <th>occupation</th>\n",
       "      <th>relationship</th>\n",
       "      <th>race</th>\n",
       "      <th>sex</th>\n",
       "      <th>hours_per_week</th>\n",
       "      <th>country</th>\n",
       "      <th>salary</th>\n",
       "    </tr>\n",
       "  </thead>\n",
       "  <tbody>\n",
       "    <tr>\n",
       "      <th>0</th>\n",
       "      <td>39</td>\n",
       "      <td>State-gov</td>\n",
       "      <td>Bachelors</td>\n",
       "      <td>Never-married</td>\n",
       "      <td>Adm-clerical</td>\n",
       "      <td>Not-in-family</td>\n",
       "      <td>White</td>\n",
       "      <td>Male</td>\n",
       "      <td>40</td>\n",
       "      <td>United-States</td>\n",
       "      <td>&lt;=50K</td>\n",
       "    </tr>\n",
       "    <tr>\n",
       "      <th>2</th>\n",
       "      <td>38</td>\n",
       "      <td>Private</td>\n",
       "      <td>HS-grad</td>\n",
       "      <td>Divorced</td>\n",
       "      <td>Handlers-cleaners</td>\n",
       "      <td>Not-in-family</td>\n",
       "      <td>White</td>\n",
       "      <td>Male</td>\n",
       "      <td>40</td>\n",
       "      <td>United-States</td>\n",
       "      <td>&lt;=50K</td>\n",
       "    </tr>\n",
       "    <tr>\n",
       "      <th>3</th>\n",
       "      <td>53</td>\n",
       "      <td>Private</td>\n",
       "      <td>11th</td>\n",
       "      <td>Married-civ-spouse</td>\n",
       "      <td>Handlers-cleaners</td>\n",
       "      <td>Husband</td>\n",
       "      <td>Black</td>\n",
       "      <td>Male</td>\n",
       "      <td>40</td>\n",
       "      <td>United-States</td>\n",
       "      <td>&lt;=50K</td>\n",
       "    </tr>\n",
       "    <tr>\n",
       "      <th>4</th>\n",
       "      <td>28</td>\n",
       "      <td>Private</td>\n",
       "      <td>Bachelors</td>\n",
       "      <td>Married-civ-spouse</td>\n",
       "      <td>Prof-specialty</td>\n",
       "      <td>Wife</td>\n",
       "      <td>Black</td>\n",
       "      <td>Female</td>\n",
       "      <td>40</td>\n",
       "      <td>Cuba</td>\n",
       "      <td>&lt;=50K</td>\n",
       "    </tr>\n",
       "    <tr>\n",
       "      <th>5</th>\n",
       "      <td>37</td>\n",
       "      <td>Private</td>\n",
       "      <td>Masters</td>\n",
       "      <td>Married-civ-spouse</td>\n",
       "      <td>Exec-managerial</td>\n",
       "      <td>Wife</td>\n",
       "      <td>White</td>\n",
       "      <td>Female</td>\n",
       "      <td>40</td>\n",
       "      <td>United-States</td>\n",
       "      <td>&lt;=50K</td>\n",
       "    </tr>\n",
       "  </tbody>\n",
       "</table>\n",
       "</div>"
      ],
      "text/plain": [
       "   age  workclass  education             marital         occupation  \\\n",
       "0   39  State-gov  Bachelors       Never-married       Adm-clerical   \n",
       "2   38    Private    HS-grad            Divorced  Handlers-cleaners   \n",
       "3   53    Private       11th  Married-civ-spouse  Handlers-cleaners   \n",
       "4   28    Private  Bachelors  Married-civ-spouse     Prof-specialty   \n",
       "5   37    Private    Masters  Married-civ-spouse    Exec-managerial   \n",
       "\n",
       "    relationship   race     sex  hours_per_week        country salary  \n",
       "0  Not-in-family  White    Male              40  United-States  <=50K  \n",
       "2  Not-in-family  White    Male              40  United-States  <=50K  \n",
       "3        Husband  Black    Male              40  United-States  <=50K  \n",
       "4           Wife  Black  Female              40           Cuba  <=50K  \n",
       "5           Wife  White  Female              40  United-States  <=50K  "
      ]
     },
     "execution_count": 30,
     "metadata": {},
     "output_type": "execute_result"
    }
   ],
   "source": [
    "df.drop(['capital_gain','capital_loss','education-num'], axis = 1,inplace = True)\n",
    "df.head()"
   ]
  },
  {
   "cell_type": "code",
   "execution_count": 31,
   "metadata": {
    "colab": {
     "base_uri": "https://localhost:8080/"
    },
    "id": "36bCbrHosn9T",
    "outputId": "f2977c49-6192-4294-c962-97403164c403"
   },
   "outputs": [
    {
     "data": {
      "text/plain": [
       "(20468, 11)"
      ]
     },
     "execution_count": 31,
     "metadata": {},
     "output_type": "execute_result"
    }
   ],
   "source": [
    "df.shape"
   ]
  },
  {
   "cell_type": "markdown",
   "metadata": {
    "id": "RUDYa3Sqsn9U"
   },
   "source": [
    "Now, we need to convert the categorical values to numeric for modeling. Looking at the Marital-status col, there are nearly 6 different values which would mean the same as two values of being married ot no married, therefore we convert them into only two values."
   ]
  },
  {
   "cell_type": "code",
   "execution_count": 32,
   "metadata": {
    "id": "2vmqPtHfsn9U"
   },
   "outputs": [],
   "source": [
    "df.replace(['Divorced', 'Married-AF-spouse', 'Married-civ-spouse', 'Married-spouse-absent','Never-married','Separated','Widowed'],\n",
    "             ['divorced','married','married','married','not married','not married','not married'], inplace = True)"
   ]
  },
  {
   "cell_type": "code",
   "execution_count": 33,
   "metadata": {
    "colab": {
     "base_uri": "https://localhost:8080/"
    },
    "id": "7k4ooLznsn9V",
    "outputId": "9941a510-99d8-41de-a8d1-c5a7284772c3"
   },
   "outputs": [
    {
     "data": {
      "text/plain": [
       "married        9946\n",
       "not married    7246\n",
       "divorced       3276\n",
       "Name: marital, dtype: int64"
      ]
     },
     "execution_count": 33,
     "metadata": {},
     "output_type": "execute_result"
    }
   ],
   "source": [
    "df['marital'].value_counts()"
   ]
  },
  {
   "cell_type": "markdown",
   "metadata": {
    "id": "BgL5CV3Csn9V"
   },
   "source": [
    "Before we do further analysis, we will separate the data as numeric and categorical so that our analysis becomes easy."
   ]
  },
  {
   "cell_type": "code",
   "execution_count": 34,
   "metadata": {
    "colab": {
     "base_uri": "https://localhost:8080/"
    },
    "id": "2LUbPDo-sn9V",
    "outputId": "1e833c3b-6381-4fdb-edf0-2a7a70db62ca"
   },
   "outputs": [
    {
     "name": "stdout",
     "output_type": "stream",
     "text": [
      "Numeric Features: \n",
      "   age  hours_per_week\n",
      "0   39              40\n",
      "2   38              40\n",
      "3   53              40\n",
      "4   28              40\n",
      "5   37              40\n",
      "--------------------------------------------------------------------------------\n"
     ]
    }
   ],
   "source": [
    "# NUMERIC FEATURES:\n",
    "\n",
    "numeric_data = df.select_dtypes(include=np.number) # select_dtypes selects data with numeric features\n",
    "numeric_col = numeric_data.columns \n",
    "\n",
    "print('Numeric Features: ')\n",
    "print(numeric_data.head(5))\n",
    "print('----'*20)"
   ]
  },
  {
   "cell_type": "code",
   "execution_count": 35,
   "metadata": {
    "colab": {
     "base_uri": "https://localhost:8080/"
    },
    "id": "VhqPXp2Nsn9W",
    "outputId": "81068413-dee2-4c0e-fd22-7cfa94ce3f31"
   },
   "outputs": [
    {
     "name": "stdout",
     "output_type": "stream",
     "text": [
      "Categorical Features: \n",
      "   workclass  education      marital         occupation   relationship   race  \\\n",
      "0  State-gov  Bachelors  not married       Adm-clerical  Not-in-family  White   \n",
      "2    Private    HS-grad     divorced  Handlers-cleaners  Not-in-family  White   \n",
      "3    Private       11th      married  Handlers-cleaners        Husband  Black   \n",
      "4    Private  Bachelors      married     Prof-specialty           Wife  Black   \n",
      "5    Private    Masters      married    Exec-managerial           Wife  White   \n",
      "\n",
      "      sex        country salary  \n",
      "0    Male  United-States  <=50K  \n",
      "2    Male  United-States  <=50K  \n",
      "3    Male  United-States  <=50K  \n",
      "4  Female           Cuba  <=50K  \n",
      "5  Female  United-States  <=50K  \n",
      "--------------------------------------------------------------------------------\n"
     ]
    }
   ],
   "source": [
    "\n",
    "# CATEGORICAL FEATURES:\n",
    "\n",
    "categorical_data = df.select_dtypes(exclude=np.number) # we will exclude data with numeric features\n",
    "categorical_col = categorical_data.columns\n",
    "\n",
    "print('Categorical Features: ')\n",
    "print(categorical_data.head(5))\n",
    "print('----'*20)"
   ]
  },
  {
   "cell_type": "markdown",
   "metadata": {
    "id": "RlNdKdh1sn9W"
   },
   "source": [
    "### 7. Data visualization"
   ]
  },
  {
   "cell_type": "markdown",
   "metadata": {
    "id": "3cQ6QM5Ysn9W"
   },
   "source": [
    "### Univariate Analysis"
   ]
  },
  {
   "cell_type": "markdown",
   "metadata": {
    "id": "0IVxDEuLsn9X"
   },
   "source": [
    "#### NUMERIC DATA:"
   ]
  },
  {
   "cell_type": "code",
   "execution_count": 36,
   "metadata": {
    "colab": {
     "base_uri": "https://localhost:8080/",
     "height": 716
    },
    "id": "xQ9_Yhv2sn9X",
    "outputId": "7585e5a3-23f5-495a-aa14-d94a9edfa723"
   },
   "outputs": [
    {
     "data": {
      "image/png": "[encoded data removed]",
      "text/plain": [
       "<Figure size 1200x1200 with 2 Axes>"
      ]
     },
     "metadata": {},
     "output_type": "display_data"
    }
   ],
   "source": [
    "# let's see how data is distributed for every column\n",
    "df.hist(figsize=(12,12), sharex=False);"
   ]
  },
  {
   "cell_type": "markdown",
   "metadata": {
    "id": "P4r7W5IPsn9Y"
   },
   "source": [
    "**Findings**\n",
    "- The minimum age is 17 and the maximum is 90 years, most of the working age group lies between 20-40\n",
    "- The minimum hours-per-week is 1 and maximum is 90, with most of the count lying between 30-40"
   ]
  },
  {
   "cell_type": "markdown",
   "metadata": {
    "id": "ATdjz5m2sn9Y"
   },
   "source": [
    "### CATEGORICAL DATA:"
   ]
  },
  {
   "cell_type": "code",
   "execution_count": 37,
   "metadata": {
    "colab": {
     "base_uri": "https://localhost:8080/",
     "height": 1000
    },
    "id": "hqMWIi_8sn9Y",
    "outputId": "def051bb-cc13-4c40-9fec-161f6cf26441"
   },
   "outputs": [
    {
     "data": {
      "image/png": "[encoded data removed]",
      "text/plain": [
       "<Figure size 2000x2500 with 9 Axes>"
      ]
     },
     "metadata": {},
     "output_type": "display_data"
    }
   ],
   "source": [
    "# let's see how data is distributed for every column\n",
    "plt.figure(figsize=(20,25), facecolor='white')\n",
    "plotnumber = 1\n",
    "\n",
    "for column in categorical_data:\n",
    "    if plotnumber<=16 :\n",
    "        ax = plt.subplot(3,3,plotnumber)\n",
    "        categorical_data[column].value_counts().plot(kind='bar')\n",
    "        plt.xlabel(column,fontsize=20)\n",
    "        #plt.ylabel('Salary',fontsize=20)\n",
    "    plotnumber+=1\n",
    "plt.tight_layout()"
   ]
  },
  {
   "cell_type": "markdown",
   "metadata": {
    "id": "tvRT910usn9Z"
   },
   "source": [
    "**Findings**\n",
    "- if we look at the workclass variable variable we can see that 74% people are privately employed, 26% belong to other 7 categories.\n",
    "- Looking at the education, majority of people have completed high graduation, have attended college or have atleast completed masters.\n",
    "- Considering the marital status, 50% are married and 35% are never married.\n",
    "- The occupation variable is equally distributed among various occupations.\n",
    "- If we consider the race variable, 92% are white and 8% belong to 4 other races.\n",
    "- 72% of the people in the data are male.\n",
    "- 96% of the people belong to US, 4% elong to remaining countries.\n",
    "- 25% people have salary above 50k and 75% below 50k, this indicated that we have imbalanced data."
   ]
  },
  {
   "cell_type": "code",
   "execution_count": 38,
   "metadata": {},
   "outputs": [
    {
     "data": {
      "image/png": "[encoded data removed]",
      "text/plain": [
       "<Figure size 640x480 with 1 Axes>"
      ]
     },
     "metadata": {},
     "output_type": "display_data"
    }
   ],
   "source": [
    "#Checking race\n",
    "\n",
    "df['race'].value_counts().plot(kind = 'pie')\n",
    "plt.rcParams['figure.figsize'] = (10,10)\n",
    "plt.show()"
   ]
  },
  {
   "cell_type": "code",
   "execution_count": 39,
   "metadata": {},
   "outputs": [
    {
     "data": {
      "image/png": "[encoded data removed]",
      "text/plain": [
       "<Figure size 1000x1000 with 1 Axes>"
      ]
     },
     "metadata": {},
     "output_type": "display_data"
    }
   ],
   "source": [
    "#checking marital-status\n",
    "\n",
    "df['marital'].value_counts().plot(kind = 'pie')\n",
    "plt.rcParams['figure.figsize'] = (10,10)\n",
    "plt.show()"
   ]
  },
  {
   "cell_type": "code",
   "execution_count": 40,
   "metadata": {},
   "outputs": [
    {
     "data": {
      "image/png": "[encoded data removed]",
      "text/plain": [
       "<Figure size 1000x1000 with 1 Axes>"
      ]
     },
     "metadata": {},
     "output_type": "display_data"
    }
   ],
   "source": [
    "#checking relationship\n",
    "\n",
    "df['relationship'].value_counts().plot(kind = 'pie')\n",
    "plt.rcParams['figure.figsize'] = (10,10)\n",
    "plt.show()"
   ]
  },
  {
   "cell_type": "code",
   "execution_count": 41,
   "metadata": {},
   "outputs": [
    {
     "data": {
      "image/png": "[encoded data removed]",
      "text/plain": [
       "<Figure size 1000x1000 with 1 Axes>"
      ]
     },
     "metadata": {},
     "output_type": "display_data"
    }
   ],
   "source": [
    "#checking native-country\n",
    "\n",
    "df['country'].value_counts().plot(kind = 'bar')\n",
    "plt.rcParams['figure.figsize'] = (10,10)\n",
    "plt.yticks(np.arange(5000,33000,3000))\n",
    "plt.show()"
   ]
  },
  {
   "cell_type": "markdown",
   "metadata": {
    "id": "1hRqysf8sn9Z"
   },
   "source": [
    "### BI-VARIATE ANALYSIS:"
   ]
  },
  {
   "cell_type": "markdown",
   "metadata": {
    "id": "ytp7VUgRsn9Z"
   },
   "source": [
    "Plot numeric variable againts the salary variable "
   ]
  },
  {
   "cell_type": "code",
   "execution_count": 42,
   "metadata": {
    "colab": {
     "base_uri": "https://localhost:8080/",
     "height": 386
    },
    "id": "CWj7AZ0csn9a",
    "outputId": "a07eb7a4-1958-4909-b5c6-e9eaa510e4ed"
   },
   "outputs": [],
   "source": [
    "# Plotting income vs age\n",
    "#sns.catplot(x=\"Salary\", y= \"age\", kind=\"box\", data=df1)"
   ]
  },
  {
   "cell_type": "code",
   "execution_count": 43,
   "metadata": {
    "colab": {
     "base_uri": "https://localhost:8080/",
     "height": 386
    },
    "id": "_7C1_rU7sn9a",
    "outputId": "0fb231f8-5b7c-4b9f-c765-ff25a3ae52e6"
   },
   "outputs": [],
   "source": [
    "\n",
    "# Plotting Salary vs fnlwgt\n",
    "#sns.catplot(x=\"Salary\", y= \"fnlwgt\", kind=\"box\", data=df1)"
   ]
  },
  {
   "cell_type": "code",
   "execution_count": 44,
   "metadata": {
    "colab": {
     "base_uri": "https://localhost:8080/",
     "height": 386
    },
    "id": "alHISQxjsn9b",
    "outputId": "ab6898e6-a554-42f5-b695-f737bc085b98"
   },
   "outputs": [],
   "source": [
    "# Plotting Salary vs hours_per_week\n",
    "#sns.catplot(x=\"Salary\", y= \"hours_per_week\", kind=\"box\", data=df1)"
   ]
  },
  {
   "cell_type": "markdown",
   "metadata": {
    "id": "XzgLBF0Isn9b"
   },
   "source": [
    "**Findings**\n",
    "- fnlwgt variable has no difference whether the income is above 50k or below 50k.\n",
    "- age and hours-per-week variables have have some variation in distribution wrt whether the income is above 50k or below 50k."
   ]
  },
  {
   "cell_type": "code",
   "execution_count": 45,
   "metadata": {
    "colab": {
     "base_uri": "https://localhost:8080/",
     "height": 1000
    },
    "id": "rVWYG99Nsn9c",
    "outputId": "8a796f69-649a-4713-f0c8-a347ddcfbe23"
   },
   "outputs": [],
   "source": [
    "\n",
    "#for column in categorical_data:\n",
    "    #plt.figure(figsize=(20,4))\n",
    "    #plt.subplot(121)\n",
    "    #sns.countplot(x=categorical_data[column],hue=categorical_data['Salary'],data=categorical_data)\n",
    "    #plt.title(column)    \n",
    "    #plt.xticks(rotation=90)"
   ]
  },
  {
   "cell_type": "markdown",
   "metadata": {
    "id": "SfeI7Pjssn9c"
   },
   "source": [
    "**Findings**\n",
    "\n",
    "People who are having income more than 50k are:\n",
    "\n",
    "- From the workclass, who are privately employed, also self employed individuals.\n",
    "- If you consider quality of info, then, masters and bachelors, also, High school and college grads.\n",
    "- From marital status, people who are married.\n",
    "- Individuals who's occupation are exec-managerial or having professional speciality.\n",
    "- Individuals, who are husbands.\n",
    "- White people.\n",
    "- Male individuals.\n",
    "- people living in the United states."
   ]
  },
  {
   "cell_type": "code",
   "execution_count": 46,
   "metadata": {
    "colab": {
     "base_uri": "https://localhost:8080/",
     "height": 143
    },
    "id": "qq0FLDizsn9c",
    "outputId": "24b3b660-0ed0-42ba-eccb-cfd0f2691995",
    "scrolled": true
   },
   "outputs": [
    {
     "data": {
      "text/html": [
       "<div>\n",
       "<style scoped>\n",
       "    .dataframe tbody tr th:only-of-type {\n",
       "        vertical-align: middle;\n",
       "    }\n",
       "\n",
       "    .dataframe tbody tr th {\n",
       "        vertical-align: top;\n",
       "    }\n",
       "\n",
       "    .dataframe thead th {\n",
       "        text-align: right;\n",
       "    }\n",
       "</style>\n",
       "<table border=\"1\" class=\"dataframe\">\n",
       "  <thead>\n",
       "    <tr style=\"text-align: right;\">\n",
       "      <th></th>\n",
       "      <th>age</th>\n",
       "      <th>hours_per_week</th>\n",
       "    </tr>\n",
       "  </thead>\n",
       "  <tbody>\n",
       "    <tr>\n",
       "      <th>age</th>\n",
       "      <td>1.000000</td>\n",
       "      <td>0.036539</td>\n",
       "    </tr>\n",
       "    <tr>\n",
       "      <th>hours_per_week</th>\n",
       "      <td>0.036539</td>\n",
       "      <td>1.000000</td>\n",
       "    </tr>\n",
       "  </tbody>\n",
       "</table>\n",
       "</div>"
      ],
      "text/plain": [
       "                     age  hours_per_week\n",
       "age             1.000000        0.036539\n",
       "hours_per_week  0.036539        1.000000"
      ]
     },
     "execution_count": 46,
     "metadata": {},
     "output_type": "execute_result"
    }
   ],
   "source": [
    "df.corr()"
   ]
  },
  {
   "cell_type": "markdown",
   "metadata": {
    "id": "ioZGSblxsn9d"
   },
   "source": [
    "## 8. Feature Engineering"
   ]
  },
  {
   "cell_type": "code",
   "execution_count": 47,
   "metadata": {
    "id": "z8o7UZEYsn9d"
   },
   "outputs": [],
   "source": [
    "# education Category\n",
    "df.education= df.education.replace(['Preschool', '1st-4th', '5th-6th', '7th-8th', '9th','10th', '11th', '12th'], 'school')\n",
    "df.education = df.education.replace('HS-grad', 'high school')\n",
    "df.education = df.education.replace(['Assoc-voc', 'Assoc-acdm', 'Prof-school', 'Some-college'], 'higher')\n",
    "df.education = df.education.replace('Bachelors', 'undergrad')\n",
    "df.education = df.education.replace('Masters', 'grad')\n",
    "df.education = df.education.replace('Doctorate', 'doc')"
   ]
  },
  {
   "cell_type": "code",
   "execution_count": 48,
   "metadata": {
    "id": "z1Jcuxprsn9e"
   },
   "outputs": [],
   "source": [
    "# Salary\n",
    "df.Salary = df.salary.replace('<=50K', 0)\n",
    "df.Salary = df.salary.replace('>50K', 1)"
   ]
  },
  {
   "cell_type": "code",
   "execution_count": 49,
   "metadata": {
    "colab": {
     "base_uri": "https://localhost:8080/",
     "height": 175
    },
    "id": "oxAzvDHGsn9e",
    "outputId": "6d3f1cd9-bf88-49df-c7df-e22f136f1ea0",
    "scrolled": true
   },
   "outputs": [
    {
     "data": {
      "text/html": [
       "<div>\n",
       "<style scoped>\n",
       "    .dataframe tbody tr th:only-of-type {\n",
       "        vertical-align: middle;\n",
       "    }\n",
       "\n",
       "    .dataframe tbody tr th {\n",
       "        vertical-align: top;\n",
       "    }\n",
       "\n",
       "    .dataframe thead th {\n",
       "        text-align: right;\n",
       "    }\n",
       "</style>\n",
       "<table border=\"1\" class=\"dataframe\">\n",
       "  <thead>\n",
       "    <tr style=\"text-align: right;\">\n",
       "      <th></th>\n",
       "      <th>age</th>\n",
       "      <th>hours_per_week</th>\n",
       "    </tr>\n",
       "  </thead>\n",
       "  <tbody>\n",
       "    <tr>\n",
       "      <th>age</th>\n",
       "      <td>1.000000</td>\n",
       "      <td>0.036539</td>\n",
       "    </tr>\n",
       "    <tr>\n",
       "      <th>hours_per_week</th>\n",
       "      <td>0.036539</td>\n",
       "      <td>1.000000</td>\n",
       "    </tr>\n",
       "  </tbody>\n",
       "</table>\n",
       "</div>"
      ],
      "text/plain": [
       "                     age  hours_per_week\n",
       "age             1.000000        0.036539\n",
       "hours_per_week  0.036539        1.000000"
      ]
     },
     "execution_count": 49,
     "metadata": {},
     "output_type": "execute_result"
    }
   ],
   "source": [
    "df.corr()"
   ]
  },
  {
   "cell_type": "code",
   "execution_count": 50,
   "metadata": {
    "colab": {
     "base_uri": "https://localhost:8080/",
     "height": 270
    },
    "id": "OYE2HPomsn9f",
    "outputId": "a83cf584-631f-41ed-893c-ec4780a93861"
   },
   "outputs": [
    {
     "data": {
      "image/png": "[encoded data removed]",
      "text/plain": [
       "<Figure size 1000x1000 with 2 Axes>"
      ]
     },
     "metadata": {},
     "output_type": "display_data"
    }
   ],
   "source": [
    "sns.heatmap(df.corr(), annot=True);"
   ]
  },
  {
   "cell_type": "code",
   "execution_count": 51,
   "metadata": {
    "id": "bi2a0ax-sn9f"
   },
   "outputs": [],
   "source": [
    "# Salary\n",
    "df.Salary = df.Salary.replace( 0,'<=50K')\n",
    "df.Salary = df.Salary.replace( 1,'>50K')"
   ]
  },
  {
   "cell_type": "code",
   "execution_count": 52,
   "metadata": {
    "colab": {
     "base_uri": "https://localhost:8080/"
    },
    "id": "yMzL5Cx2sn9g",
    "outputId": "d7f5dd45-89cf-48ec-c5f5-cc100f4af32c",
    "scrolled": true
   },
   "outputs": [
    {
     "data": {
      "text/plain": [
       "<=50K    15092\n",
       ">50K      5376\n",
       "Name: salary, dtype: int64"
      ]
     },
     "execution_count": 52,
     "metadata": {},
     "output_type": "execute_result"
    }
   ],
   "source": [
    "df['salary'].value_counts()"
   ]
  },
  {
   "cell_type": "code",
   "execution_count": 53,
   "metadata": {
    "colab": {
     "base_uri": "https://localhost:8080/"
    },
    "id": "_g3ozMXfsn9h",
    "outputId": "2a94876f-5e7e-48f3-8668-1aaafca1cf1e"
   },
   "outputs": [
    {
     "name": "stdout",
     "output_type": "stream",
     "text": [
      "<class 'pandas.core.frame.DataFrame'>\n",
      "Int64Index: 20468 entries, 0 to 32560\n",
      "Data columns (total 11 columns):\n",
      " #   Column          Non-Null Count  Dtype \n",
      "---  ------          --------------  ----- \n",
      " 0   age             20468 non-null  int64 \n",
      " 1   workclass       20468 non-null  object\n",
      " 2   education       20468 non-null  object\n",
      " 3   marital         20468 non-null  object\n",
      " 4   occupation      20468 non-null  object\n",
      " 5   relationship    20468 non-null  object\n",
      " 6   race            20468 non-null  object\n",
      " 7   sex             20468 non-null  object\n",
      " 8   hours_per_week  20468 non-null  int64 \n",
      " 9   country         20468 non-null  object\n",
      " 10  salary          20468 non-null  object\n",
      "dtypes: int64(2), object(9)\n",
      "memory usage: 1.9+ MB\n"
     ]
    }
   ],
   "source": [
    "df.info()"
   ]
  },
  {
   "cell_type": "code",
   "execution_count": 54,
   "metadata": {
    "id": "NwWkCCu9sn9h"
   },
   "outputs": [],
   "source": [
    "#Covert workclass Columns Datatype To Category Datatype\n",
    "df['workclass'] = df['workclass'].astype('category')"
   ]
  },
  {
   "cell_type": "markdown",
   "metadata": {
    "id": "wpZmS-cTsn9i"
   },
   "source": [
    " I chose not to use the 'Fnlwgt' attribute that is used by the census, as the inverse of sampling fraction adjusted for non-response and over or under sampling of particular groups. This attribute does not convey individual related meaning."
   ]
  },
  {
   "cell_type": "markdown",
   "metadata": {
    "id": "wGZyrtC8sn9i"
   },
   "source": [
    "## 9. Encoding"
   ]
  },
  {
   "cell_type": "code",
   "execution_count": 55,
   "metadata": {
    "colab": {
     "base_uri": "https://localhost:8080/"
    },
    "id": "LHnM_4cHsn9j",
    "outputId": "bf5c9a4a-244d-4195-bfb5-03816803a989",
    "scrolled": true
   },
   "outputs": [
    {
     "data": {
      "text/plain": [
       "Index(['age', 'workclass', 'education', 'marital', 'occupation',\n",
       "       'relationship', 'race', 'sex', 'hours_per_week', 'country', 'salary'],\n",
       "      dtype='object')"
      ]
     },
     "execution_count": 55,
     "metadata": {},
     "output_type": "execute_result"
    }
   ],
   "source": [
    "df.columns"
   ]
  },
  {
   "cell_type": "code",
   "execution_count": 56,
   "metadata": {
    "colab": {
     "base_uri": "https://localhost:8080/"
    },
    "id": "hw-nLsPPsn9j",
    "outputId": "0b670ab3-fc6d-4c88-a5aa-faf21b0e8aaa",
    "scrolled": true
   },
   "outputs": [
    {
     "name": "stdout",
     "output_type": "stream",
     "text": [
      "Unique values in age feature.\n",
      "[39 38 53 28 37 52 31 42 30 32 40 34 25 43 35 59 56 23 20 45 48 24 49 57\n",
      " 44 41 29 27 33 76 47 36 22 19 46 61 70 64 21 51 26 58 60 54 50 66 65 55\n",
      " 77 63 17 62 67 72 69 18 73 71 78 75 68 74] \n",
      "\n",
      "****************************************\n",
      "Unique values in workclass feature.\n",
      "['State-gov', 'Private', 'Self-emp-not-inc', 'Federal-gov', 'Local-gov', 'Self-emp-inc', 'Without-pay', 'Never-worked']\n",
      "Categories (8, object): ['Federal-gov', 'Local-gov', 'Never-worked', 'Private', 'Self-emp-inc', 'Self-emp-not-inc', 'State-gov', 'Without-pay'] \n",
      "\n",
      "****************************************\n",
      "Unique values in education feature.\n",
      "['undergrad' 'high school' 'school' 'grad' 'higher' 'doc'] \n",
      "\n",
      "****************************************\n",
      "Unique values in marital feature.\n",
      "['not married' 'divorced' 'married'] \n",
      "\n",
      "****************************************\n",
      "Unique values in occupation feature.\n",
      "['Adm-clerical' 'Handlers-cleaners' 'Prof-specialty' 'Exec-managerial'\n",
      " 'Sales' 'Craft-repair' 'Transport-moving' 'Farming-fishing'\n",
      " 'Tech-support' 'Protective-serv' 'Machine-op-inspct' 'Other-service'\n",
      " 'Armed-Forces' 'Priv-house-serv'] \n",
      "\n",
      "****************************************\n",
      "Unique values in relationship feature.\n",
      "['Not-in-family' 'Husband' 'Wife' 'Own-child' 'Unmarried' 'Other-relative'] \n",
      "\n",
      "****************************************\n",
      "Unique values in race feature.\n",
      "['White' 'Black' 'Asian-Pac-Islander' 'Amer-Indian-Eskimo' 'Other'] \n",
      "\n",
      "****************************************\n",
      "Unique values in sex feature.\n",
      "['Male' 'Female'] \n",
      "\n",
      "****************************************\n",
      "Unique values in hours_per_week feature.\n",
      "[40 45 50 35 52 44 38 43 48 41 36 46 42 34 33 47 37 39 49 51] \n",
      "\n",
      "****************************************\n",
      "Unique values in country feature.\n",
      "['United-States' 'Cuba' 'India' 'Mexico' 'Puerto-Rico' 'England' 'Canada'\n",
      " 'Germany' 'Iran' 'Philippines' 'Italy' 'Poland' 'Cambodia' 'Ecuador'\n",
      " 'Laos' 'Taiwan' 'Portugal' 'El-Salvador' 'France' 'South'\n",
      " 'Dominican-Republic' 'Jamaica' 'Honduras' 'Haiti' 'China' 'Guatemala'\n",
      " 'Japan' 'Yugoslavia' 'Peru' 'Outlying-US(Guam-USVI-etc)' 'Scotland'\n",
      " 'Trinadad&Tobago' 'Greece' 'Nicaragua' 'Vietnam' 'Hong' 'Columbia'\n",
      " 'Ireland' 'Thailand' 'Hungary' 'Holand-Netherlands'] \n",
      "\n",
      "****************************************\n",
      "Unique values in salary feature.\n",
      "['<=50K' '>50K'] \n",
      "\n",
      "****************************************\n"
     ]
    }
   ],
   "source": [
    "unique_checker(df)"
   ]
  },
  {
   "cell_type": "markdown",
   "metadata": {
    "id": "CbuqBwQesn9j"
   },
   "source": [
    "### One-Hot Encoding"
   ]
  },
  {
   "cell_type": "code",
   "execution_count": 57,
   "metadata": {
    "id": "uQXqcW8Usn9k"
   },
   "outputs": [],
   "source": [
    "#Select the variables to be one-hot encoded\n",
    "#one_hot_features = ['marital','sex']\n",
    "#df1 = pd.get_dummies(df1, columns=one_hot_features)"
   ]
  },
  {
   "cell_type": "code",
   "execution_count": 58,
   "metadata": {
    "colab": {
     "base_uri": "https://localhost:8080/",
     "height": 374
    },
    "id": "mWjL8cFQsn9k",
    "outputId": "3ec8cced-04ac-4935-e8b0-a1c8d3319585",
    "scrolled": true
   },
   "outputs": [],
   "source": [
    "#df1.head()"
   ]
  },
  {
   "cell_type": "markdown",
   "metadata": {
    "id": "Orkm51i_sn9l"
   },
   "source": [
    "### Label Encoding"
   ]
  },
  {
   "cell_type": "code",
   "execution_count": 59,
   "metadata": {
    "id": "zthkwyR8sn9l"
   },
   "outputs": [],
   "source": [
    "#label encoding\n",
    "from sklearn import preprocessing\n",
    "le = preprocessing.LabelEncoder()\n",
    "#convert the categorical columns into numeric \n",
    "df['workclass']  = le.fit_transform(df['workclass'])\n",
    "df['education']  = le.fit_transform(df['education'])\n",
    "df['occupation']  = le.fit_transform(df['occupation'])\n",
    "df['relationship']  = le.fit_transform(df['relationship'])\n",
    "df['race']  = le.fit_transform(df['race'])\n",
    "df['country']  = le.fit_transform(df['country'])\n",
    "df['marital']  = le.fit_transform(df['marital'])\n",
    "df['sex']  = le.fit_transform(df['sex'])"
   ]
  },
  {
   "cell_type": "code",
   "execution_count": 60,
   "metadata": {
    "colab": {
     "base_uri": "https://localhost:8080/",
     "height": 288
    },
    "id": "PXLJ01uhsn9l",
    "outputId": "33f40aa8-ac96-4f0b-bb10-3b4f6311cde2"
   },
   "outputs": [
    {
     "data": {
      "text/html": [
       "<div>\n",
       "<style scoped>\n",
       "    .dataframe tbody tr th:only-of-type {\n",
       "        vertical-align: middle;\n",
       "    }\n",
       "\n",
       "    .dataframe tbody tr th {\n",
       "        vertical-align: top;\n",
       "    }\n",
       "\n",
       "    .dataframe thead th {\n",
       "        text-align: right;\n",
       "    }\n",
       "</style>\n",
       "<table border=\"1\" class=\"dataframe\">\n",
       "  <thead>\n",
       "    <tr style=\"text-align: right;\">\n",
       "      <th></th>\n",
       "      <th>age</th>\n",
       "      <th>workclass</th>\n",
       "      <th>education</th>\n",
       "      <th>marital</th>\n",
       "      <th>occupation</th>\n",
       "      <th>relationship</th>\n",
       "      <th>race</th>\n",
       "      <th>sex</th>\n",
       "      <th>hours_per_week</th>\n",
       "      <th>country</th>\n",
       "      <th>salary</th>\n",
       "    </tr>\n",
       "  </thead>\n",
       "  <tbody>\n",
       "    <tr>\n",
       "      <th>0</th>\n",
       "      <td>39</td>\n",
       "      <td>6</td>\n",
       "      <td>5</td>\n",
       "      <td>2</td>\n",
       "      <td>0</td>\n",
       "      <td>1</td>\n",
       "      <td>4</td>\n",
       "      <td>1</td>\n",
       "      <td>40</td>\n",
       "      <td>38</td>\n",
       "      <td>&lt;=50K</td>\n",
       "    </tr>\n",
       "    <tr>\n",
       "      <th>2</th>\n",
       "      <td>38</td>\n",
       "      <td>3</td>\n",
       "      <td>2</td>\n",
       "      <td>0</td>\n",
       "      <td>5</td>\n",
       "      <td>1</td>\n",
       "      <td>4</td>\n",
       "      <td>1</td>\n",
       "      <td>40</td>\n",
       "      <td>38</td>\n",
       "      <td>&lt;=50K</td>\n",
       "    </tr>\n",
       "    <tr>\n",
       "      <th>3</th>\n",
       "      <td>53</td>\n",
       "      <td>3</td>\n",
       "      <td>4</td>\n",
       "      <td>1</td>\n",
       "      <td>5</td>\n",
       "      <td>0</td>\n",
       "      <td>2</td>\n",
       "      <td>1</td>\n",
       "      <td>40</td>\n",
       "      <td>38</td>\n",
       "      <td>&lt;=50K</td>\n",
       "    </tr>\n",
       "    <tr>\n",
       "      <th>4</th>\n",
       "      <td>28</td>\n",
       "      <td>3</td>\n",
       "      <td>5</td>\n",
       "      <td>1</td>\n",
       "      <td>9</td>\n",
       "      <td>5</td>\n",
       "      <td>2</td>\n",
       "      <td>0</td>\n",
       "      <td>40</td>\n",
       "      <td>4</td>\n",
       "      <td>&lt;=50K</td>\n",
       "    </tr>\n",
       "    <tr>\n",
       "      <th>5</th>\n",
       "      <td>37</td>\n",
       "      <td>3</td>\n",
       "      <td>1</td>\n",
       "      <td>1</td>\n",
       "      <td>3</td>\n",
       "      <td>5</td>\n",
       "      <td>4</td>\n",
       "      <td>0</td>\n",
       "      <td>40</td>\n",
       "      <td>38</td>\n",
       "      <td>&lt;=50K</td>\n",
       "    </tr>\n",
       "  </tbody>\n",
       "</table>\n",
       "</div>"
      ],
      "text/plain": [
       "   age  workclass  education  marital  occupation  relationship  race  sex  \\\n",
       "0   39          6          5        2           0             1     4    1   \n",
       "2   38          3          2        0           5             1     4    1   \n",
       "3   53          3          4        1           5             0     2    1   \n",
       "4   28          3          5        1           9             5     2    0   \n",
       "5   37          3          1        1           3             5     4    0   \n",
       "\n",
       "   hours_per_week  country salary  \n",
       "0              40       38  <=50K  \n",
       "2              40       38  <=50K  \n",
       "3              40       38  <=50K  \n",
       "4              40        4  <=50K  \n",
       "5              40       38  <=50K  "
      ]
     },
     "execution_count": 60,
     "metadata": {},
     "output_type": "execute_result"
    }
   ],
   "source": [
    "df.head()"
   ]
  },
  {
   "cell_type": "markdown",
   "metadata": {
    "id": "GhMAyYEksn9m"
   },
   "source": [
    "## 9. Model Development & Classification"
   ]
  },
  {
   "cell_type": "code",
   "execution_count": 61,
   "metadata": {
    "colab": {
     "base_uri": "https://localhost:8080/",
     "height": 268
    },
    "id": "qtkGWTCssn9m",
    "outputId": "b53af4aa-da20-454b-9fa9-773324dd37ef",
    "scrolled": true
   },
   "outputs": [
    {
     "data": {
      "text/html": [
       "<div>\n",
       "<style scoped>\n",
       "    .dataframe tbody tr th:only-of-type {\n",
       "        vertical-align: middle;\n",
       "    }\n",
       "\n",
       "    .dataframe tbody tr th {\n",
       "        vertical-align: top;\n",
       "    }\n",
       "\n",
       "    .dataframe thead th {\n",
       "        text-align: right;\n",
       "    }\n",
       "</style>\n",
       "<table border=\"1\" class=\"dataframe\">\n",
       "  <thead>\n",
       "    <tr style=\"text-align: right;\">\n",
       "      <th></th>\n",
       "      <th>age</th>\n",
       "      <th>workclass</th>\n",
       "      <th>education</th>\n",
       "      <th>marital</th>\n",
       "      <th>occupation</th>\n",
       "      <th>relationship</th>\n",
       "      <th>race</th>\n",
       "      <th>sex</th>\n",
       "      <th>hours_per_week</th>\n",
       "      <th>country</th>\n",
       "    </tr>\n",
       "  </thead>\n",
       "  <tbody>\n",
       "    <tr>\n",
       "      <th>0</th>\n",
       "      <td>39</td>\n",
       "      <td>6</td>\n",
       "      <td>5</td>\n",
       "      <td>2</td>\n",
       "      <td>0</td>\n",
       "      <td>1</td>\n",
       "      <td>4</td>\n",
       "      <td>1</td>\n",
       "      <td>40</td>\n",
       "      <td>38</td>\n",
       "    </tr>\n",
       "    <tr>\n",
       "      <th>2</th>\n",
       "      <td>38</td>\n",
       "      <td>3</td>\n",
       "      <td>2</td>\n",
       "      <td>0</td>\n",
       "      <td>5</td>\n",
       "      <td>1</td>\n",
       "      <td>4</td>\n",
       "      <td>1</td>\n",
       "      <td>40</td>\n",
       "      <td>38</td>\n",
       "    </tr>\n",
       "    <tr>\n",
       "      <th>3</th>\n",
       "      <td>53</td>\n",
       "      <td>3</td>\n",
       "      <td>4</td>\n",
       "      <td>1</td>\n",
       "      <td>5</td>\n",
       "      <td>0</td>\n",
       "      <td>2</td>\n",
       "      <td>1</td>\n",
       "      <td>40</td>\n",
       "      <td>38</td>\n",
       "    </tr>\n",
       "    <tr>\n",
       "      <th>4</th>\n",
       "      <td>28</td>\n",
       "      <td>3</td>\n",
       "      <td>5</td>\n",
       "      <td>1</td>\n",
       "      <td>9</td>\n",
       "      <td>5</td>\n",
       "      <td>2</td>\n",
       "      <td>0</td>\n",
       "      <td>40</td>\n",
       "      <td>4</td>\n",
       "    </tr>\n",
       "    <tr>\n",
       "      <th>5</th>\n",
       "      <td>37</td>\n",
       "      <td>3</td>\n",
       "      <td>1</td>\n",
       "      <td>1</td>\n",
       "      <td>3</td>\n",
       "      <td>5</td>\n",
       "      <td>4</td>\n",
       "      <td>0</td>\n",
       "      <td>40</td>\n",
       "      <td>38</td>\n",
       "    </tr>\n",
       "  </tbody>\n",
       "</table>\n",
       "</div>"
      ],
      "text/plain": [
       "   age  workclass  education  marital  occupation  relationship  race  sex  \\\n",
       "0   39          6          5        2           0             1     4    1   \n",
       "2   38          3          2        0           5             1     4    1   \n",
       "3   53          3          4        1           5             0     2    1   \n",
       "4   28          3          5        1           9             5     2    0   \n",
       "5   37          3          1        1           3             5     4    0   \n",
       "\n",
       "   hours_per_week  country  \n",
       "0              40       38  \n",
       "2              40       38  \n",
       "3              40       38  \n",
       "4              40        4  \n",
       "5              40       38  "
      ]
     },
     "execution_count": 61,
     "metadata": {},
     "output_type": "execute_result"
    }
   ],
   "source": [
    "#Moved the salary column to another variable\n",
    "target_salary = df.pop('salary')\n",
    "df.head()"
   ]
  },
  {
   "cell_type": "markdown",
   "metadata": {
    "id": "pGr2tbLTsn9n"
   },
   "source": [
    "### Logistic Regression Model"
   ]
  },
  {
   "cell_type": "code",
   "execution_count": 62,
   "metadata": {
    "id": "7580Q9kmsn9n"
   },
   "outputs": [],
   "source": [
    "from sklearn.model_selection import train_test_split\n",
    "from sklearn.metrics import classification_report\n",
    "from sklearn.linear_model import LogisticRegression\n",
    "from sklearn.preprocessing import StandardScaler"
   ]
  },
  {
   "cell_type": "code",
   "execution_count": 63,
   "metadata": {
    "id": "kPYhV6DQsn9n"
   },
   "outputs": [],
   "source": [
    "#since this is a binary classification we will use logistic reg\n",
    "\n",
    "#normalizing data\n",
    "scaler = StandardScaler()\n",
    "df2 = scaler.fit_transform(df.values)"
   ]
  },
  {
   "cell_type": "code",
   "execution_count": 64,
   "metadata": {
    "colab": {
     "base_uri": "https://localhost:8080/"
    },
    "id": "KLRSPaQ-sn9o",
    "outputId": "2ccd7f96-954d-43d7-b514-51475f44b690"
   },
   "outputs": [
    {
     "data": {
      "text/plain": [
       "LogisticRegression()"
      ]
     },
     "execution_count": 64,
     "metadata": {},
     "output_type": "execute_result"
    }
   ],
   "source": [
    "x_train, x_test, y_train, y_test = train_test_split(df2, target_salary,test_size=0.2, random_state=42)\n",
    "\n",
    "clf = LogisticRegression().fit(x_train,y_train)\n",
    "clf"
   ]
  },
  {
   "cell_type": "code",
   "execution_count": 65,
   "metadata": {
    "colab": {
     "base_uri": "https://localhost:8080/"
    },
    "id": "GV1itktesn9o",
    "outputId": "60930614-8dcb-4e43-f234-495dc4673455"
   },
   "outputs": [
    {
     "data": {
      "text/plain": [
       "0.7447484123106985"
      ]
     },
     "execution_count": 65,
     "metadata": {},
     "output_type": "execute_result"
    }
   ],
   "source": [
    "clf.score(x_test,y_test)"
   ]
  },
  {
   "cell_type": "code",
   "execution_count": 66,
   "metadata": {
    "colab": {
     "base_uri": "https://localhost:8080/"
    },
    "id": "ngY0TH70sn9p",
    "outputId": "87cbc8ac-cb1f-49ff-812c-cdb2f27a0768"
   },
   "outputs": [
    {
     "name": "stdout",
     "output_type": "stream",
     "text": [
      "              precision    recall  f1-score   support\n",
      "\n",
      "       <=50K       0.77      0.94      0.84      3021\n",
      "        >50K       0.53      0.20      0.30      1073\n",
      "\n",
      "    accuracy                           0.74      4094\n",
      "   macro avg       0.65      0.57      0.57      4094\n",
      "weighted avg       0.71      0.74      0.70      4094\n",
      "\n"
     ]
    }
   ],
   "source": [
    "print(classification_report(y_test, clf.predict(x_test)))"
   ]
  },
  {
   "cell_type": "code",
   "execution_count": 67,
   "metadata": {
    "colab": {
     "base_uri": "https://localhost:8080/"
    },
    "id": "cSYsal5Gsn9p",
    "outputId": "ec3ba61c-8568-476c-aa38-7350fa0519f3"
   },
   "outputs": [
    {
     "name": "stdout",
     "output_type": "stream",
     "text": [
      "Accuracy for Logistic Regression is 0.7447\n",
      "Precision for Logistic Regression is 0.6512\n",
      "Recall for Logistic Regression is 0.5704\n",
      "F1-Score for Logistic Regression is 0.5697\n"
     ]
    }
   ],
   "source": [
    "from sklearn.metrics import confusion_matrix,accuracy_score,precision_score,recall_score,f1_score\n",
    "print(\"Accuracy for Logistic Regression is\",round(accuracy_score(y_test,clf.predict(x_test)),4))\n",
    "print(\"Precision for Logistic Regression is\",round(precision_score(y_test,clf.predict(x_test),average='macro'),4))\n",
    "print(\"Recall for Logistic Regression is\",round(recall_score(y_test,clf.predict(x_test),average='macro'),4))\n",
    "print(\"F1-Score for Logistic Regression is\",round(f1_score(y_test,clf.predict(x_test),average='macro'),4))"
   ]
  },
  {
   "cell_type": "code",
   "execution_count": 68,
   "metadata": {
    "id": "ythuksIOsn9p"
   },
   "outputs": [],
   "source": [
    "y_pred1 = clf.predict(x_test)"
   ]
  },
  {
   "cell_type": "code",
   "execution_count": 69,
   "metadata": {
    "colab": {
     "base_uri": "https://localhost:8080/",
     "height": 299
    },
    "id": "uVuYuaZlsn9q",
    "outputId": "0af3e5b9-93f3-4d53-8280-1975156bfed8"
   },
   "outputs": [
    {
     "data": {
      "text/plain": [
       "Text(95.72222222222221, 0.5, 'Actual Labels')"
      ]
     },
     "execution_count": 69,
     "metadata": {},
     "output_type": "execute_result"
    },
    {
     "data": {
      "image/png": "[encoded data removed]",
      "text/plain": [
       "<Figure size 1000x1000 with 2 Axes>"
      ]
     },
     "metadata": {},
     "output_type": "display_data"
    }
   ],
   "source": [
    "from sklearn.metrics import confusion_matrix\n",
    "\n",
    "sns.heatmap(confusion_matrix(y_test,y_pred1),annot=True,fmt='g')\n",
    "plt.xlabel('Predicted Labels')\n",
    "plt.ylabel('Actual Labels')"
   ]
  },
  {
   "cell_type": "markdown",
   "metadata": {
    "id": "uxTk1ZQhsn9q"
   },
   "source": [
    "### Support Vector Classifier"
   ]
  },
  {
   "cell_type": "code",
   "execution_count": 70,
   "metadata": {
    "colab": {
     "base_uri": "https://localhost:8080/"
    },
    "id": "nVt3SmI5sn9r",
    "outputId": "959767a9-a246-40d1-a51b-9a3be4c81d49"
   },
   "outputs": [
    {
     "name": "stdout",
     "output_type": "stream",
     "text": [
      "Accuracy on training data is: 0.7372053255160621\n",
      "Accuracy is: 0.7379091353199805\n",
      "Precision is: 0.5445098919886812\n",
      "Recall is: 0.7379091353199805\n",
      "f1 score is: 0.6266264224319497\n",
      "              precision    recall  f1-score   support\n",
      "\n",
      "       <=50K       0.74      1.00      0.85      3021\n",
      "        >50K       0.00      0.00      0.00      1073\n",
      "\n",
      "    accuracy                           0.74      4094\n",
      "   macro avg       0.37      0.50      0.42      4094\n",
      "weighted avg       0.54      0.74      0.63      4094\n",
      "\n",
      "[[3021    0]\n",
      " [1073    0]]\n"
     ]
    }
   ],
   "source": [
    "from sklearn.svm import SVC\n",
    "svc=SVC(kernel='linear')\n",
    "svc.fit(x_train,y_train)\n",
    "y_pred=svc.predict(x_test)\n",
    "print('Accuracy on training data is:',svc.score(x_train,y_train))\n",
    "print('Accuracy is:',accuracy_score(y_test,y_pred))\n",
    "print('Precision is:',precision_score(y_test,y_pred,average='weighted'))\n",
    "print('Recall is:',recall_score(y_test,y_pred,average='weighted'))\n",
    "print('f1 score is:',f1_score(y_test,y_pred,average='weighted'))\n",
    "print(classification_report(y_test,y_pred))\n",
    "print(confusion_matrix(y_test,y_pred))"
   ]
  },
  {
   "cell_type": "markdown",
   "metadata": {
    "id": "zKpiJDzhsn9r"
   },
   "source": [
    "### Decision Tree Classifier"
   ]
  },
  {
   "cell_type": "code",
   "execution_count": 71,
   "metadata": {
    "colab": {
     "base_uri": "https://localhost:8080/"
    },
    "id": "iJAiPQSssn9r",
    "outputId": "ed4d0c09-77d4-4b48-f717-ae806a0490c5"
   },
   "outputs": [
    {
     "name": "stdout",
     "output_type": "stream",
     "text": [
      "Accuracy on training data is: 0.9601807743984365\n",
      "Accuracy is: 0.7481680508060576\n",
      "Precision is: 0.7438109009663066\n",
      "Recall is: 0.7481680508060576\n",
      "f1 score is: 0.7458260516349492\n",
      "              precision    recall  f1-score   support\n",
      "\n",
      "       <=50K       0.82      0.84      0.83      3021\n",
      "        >50K       0.52      0.49      0.51      1073\n",
      "\n",
      "    accuracy                           0.75      4094\n",
      "   macro avg       0.67      0.67      0.67      4094\n",
      "weighted avg       0.74      0.75      0.75      4094\n",
      "\n",
      "[[2535  486]\n",
      " [ 545  528]]\n"
     ]
    }
   ],
   "source": [
    "from sklearn.tree import DecisionTreeClassifier\n",
    "dt_model=DecisionTreeClassifier()\n",
    "dt_model.fit(x_train,y_train)\n",
    "y_pred=dt_model.predict(x_test)\n",
    "print('Accuracy on training data is:',dt_model.score(x_train,y_train))\n",
    "print('Accuracy is:',accuracy_score(y_test,y_pred))\n",
    "print('Precision is:',precision_score(y_test,y_pred,average='weighted'))\n",
    "print('Recall is:',recall_score(y_test,y_pred,average='weighted'))\n",
    "print('f1 score is:',f1_score(y_test,y_pred,average='weighted'))\n",
    "print(classification_report(y_test,y_pred))\n",
    "print(confusion_matrix(y_test,y_pred))"
   ]
  },
  {
   "cell_type": "markdown",
   "metadata": {
    "id": "-KOvZKugsn9s"
   },
   "source": [
    "### KNN Model"
   ]
  },
  {
   "cell_type": "code",
   "execution_count": 72,
   "metadata": {
    "id": "nisr76yzsn9s"
   },
   "outputs": [],
   "source": [
    "from sklearn.neighbors import KNeighborsClassifier\n",
    "acc_values=[]\n",
    "n_neighbors=np.arange(2,18)\n",
    "for i in n_neighbors:\n",
    "  knn_model=KNeighborsClassifier(n_neighbors=i,metric='minkowski')\n",
    "  knn_model.fit(x_train,y_train)\n",
    "  y_pred=knn_model.predict(x_test)\n",
    "  acc=accuracy_score(y_test,y_pred)\n",
    "  acc_values.append(acc)"
   ]
  },
  {
   "cell_type": "code",
   "execution_count": 73,
   "metadata": {
    "colab": {
     "base_uri": "https://localhost:8080/",
     "height": 296
    },
    "id": "lM0z9PYzsn9t",
    "outputId": "8aa47401-4c75-43ea-a287-b9ba6ccde859"
   },
   "outputs": [
    {
     "data": {
      "text/plain": [
       "Text(0, 0.5, 'Accuracy values')"
      ]
     },
     "execution_count": 73,
     "metadata": {},
     "output_type": "execute_result"
    },
    {
     "data": {
      "image/png": "[encoded data removed]",
      "text/plain": [
       "<Figure size 1000x1000 with 1 Axes>"
      ]
     },
     "metadata": {},
     "output_type": "display_data"
    }
   ],
   "source": [
    "plt.plot(n_neighbors,acc_values,'o-')\n",
    "plt.xlabel('Number of Neighbors')\n",
    "plt.ylabel('Accuracy values')"
   ]
  },
  {
   "cell_type": "code",
   "execution_count": 74,
   "metadata": {
    "colab": {
     "base_uri": "https://localhost:8080/"
    },
    "id": "mbbARdfisn9u",
    "outputId": "10f87100-f9ec-49bb-d78a-4815bdbf7c16"
   },
   "outputs": [
    {
     "name": "stdout",
     "output_type": "stream",
     "text": [
      "Accuracy on training data is: 0.835287651154269\n",
      "Accuracy is: 0.790180752320469\n",
      "Precision is: 0.7816159762148495\n",
      "Recall is: 0.790180752320469\n",
      "f1 score is: 0.7845568125804867\n",
      "              precision    recall  f1-score   support\n",
      "\n",
      "       <=50K       0.84      0.88      0.86      3021\n",
      "        >50K       0.62      0.53      0.57      1073\n",
      "\n",
      "    accuracy                           0.79      4094\n",
      "   macro avg       0.73      0.71      0.71      4094\n",
      "weighted avg       0.78      0.79      0.78      4094\n",
      "\n",
      "[[2670  351]\n",
      " [ 508  565]]\n"
     ]
    }
   ],
   "source": [
    "knn_model=KNeighborsClassifier(n_neighbors=7,metric='minkowski')\n",
    "knn_model.fit(x_train,y_train)\n",
    "y_pred=knn_model.predict(x_test)\n",
    "print('Accuracy on training data is:',knn_model.score(x_train,y_train))\n",
    "print('Accuracy is:',accuracy_score(y_test,y_pred))\n",
    "print('Precision is:',precision_score(y_test,y_pred,average='weighted'))\n",
    "print('Recall is:',recall_score(y_test,y_pred,average='weighted'))\n",
    "print('f1 score is:',f1_score(y_test,y_pred,average='weighted'))\n",
    "print(classification_report(y_test,y_pred))\n",
    "print(confusion_matrix(y_test,y_pred))"
   ]
  },
  {
   "cell_type": "markdown",
   "metadata": {
    "id": "IIG5m7Tvsn9v"
   },
   "source": [
    "### Random Forest Classifier"
   ]
  },
  {
   "cell_type": "code",
   "execution_count": 75,
   "metadata": {
    "colab": {
     "base_uri": "https://localhost:8080/"
    },
    "id": "3qCqrgdMsn9v",
    "outputId": "078fb4d3-76ff-43ff-a0c9-7ce9ee0c9942"
   },
   "outputs": [
    {
     "name": "stdout",
     "output_type": "stream",
     "text": [
      "Accuracy on training data is: 0.9600586295346281\n",
      "Accuracy is: 0.7843185148998535\n",
      "Precision is: 0.7752995256975304\n",
      "Recall is: 0.7843185148998535\n",
      "f1 score is: 0.7784542318148521\n",
      "              precision    recall  f1-score   support\n",
      "\n",
      "       <=50K       0.84      0.88      0.86      3021\n",
      "        >50K       0.60      0.51      0.56      1073\n",
      "\n",
      "    accuracy                           0.78      4094\n",
      "   macro avg       0.72      0.70      0.71      4094\n",
      "weighted avg       0.78      0.78      0.78      4094\n",
      "\n",
      "[[2659  362]\n",
      " [ 521  552]]\n"
     ]
    }
   ],
   "source": [
    "from sklearn.ensemble import RandomForestClassifier\n",
    "rf_model=RandomForestClassifier()\n",
    "rf_model.fit(x_train,y_train)\n",
    "y_pred=rf_model.predict(x_test)\n",
    "print('Accuracy on training data is:',rf_model.score(x_train,y_train))\n",
    "print('Accuracy is:',accuracy_score(y_test,y_pred))\n",
    "print('Precision is:',precision_score(y_test,y_pred,average='weighted'))\n",
    "print('Recall is:',recall_score(y_test,y_pred,average='weighted'))\n",
    "print('f1 score is:',f1_score(y_test,y_pred,average='weighted'))\n",
    "print(classification_report(y_test,y_pred))\n",
    "print(confusion_matrix(y_test,y_pred))"
   ]
  },
  {
   "cell_type": "markdown",
   "metadata": {
    "id": "p3mxoWp-sn9w"
   },
   "source": [
    "# Gradient Boosting"
   ]
  },
  {
   "cell_type": "code",
   "execution_count": 76,
   "metadata": {
    "colab": {
     "base_uri": "https://localhost:8080/"
    },
    "id": "HHUWF_zSsn9w",
    "outputId": "eb9c832a-d4ad-4728-d483-ddd0dcf69d38"
   },
   "outputs": [
    {
     "name": "stdout",
     "output_type": "stream",
     "text": [
      "Accuracy on training data is: 0.9600586295346281\n",
      "Accuracy is: 0.8229115779189057\n",
      "Precision is: 0.815303298284436\n",
      "Recall is: 0.8229115779189057\n",
      "f1 score is: 0.816757586785598\n",
      "              precision    recall  f1-score   support\n",
      "\n",
      "       <=50K       0.86      0.91      0.88      3021\n",
      "        >50K       0.70      0.57      0.63      1073\n",
      "\n",
      "    accuracy                           0.82      4094\n",
      "   macro avg       0.78      0.74      0.76      4094\n",
      "weighted avg       0.82      0.82      0.82      4094\n",
      "\n",
      "[[2757  264]\n",
      " [ 461  612]]\n"
     ]
    }
   ],
   "source": [
    "from sklearn.ensemble import GradientBoostingClassifier\n",
    "gb = GradientBoostingClassifier()\n",
    "gb.fit(x_train,y_train)\n",
    "y_pred = gb.predict(x_test)\n",
    "print('Accuracy on training data is:',rf_model.score(x_train,y_train))\n",
    "print('Accuracy is:',accuracy_score(y_test,y_pred))\n",
    "print('Precision is:',precision_score(y_test,y_pred,average='weighted'))\n",
    "print('Recall is:',recall_score(y_test,y_pred,average='weighted'))\n",
    "print('f1 score is:',f1_score(y_test,y_pred,average='weighted'))\n",
    "print(classification_report(y_test,y_pred))\n",
    "print(confusion_matrix(y_test,y_pred))"
   ]
  },
  {
   "cell_type": "markdown",
   "metadata": {
    "id": "oXPlDZgesn9x"
   },
   "source": [
    "### Naive Bayes"
   ]
  },
  {
   "cell_type": "code",
   "execution_count": 77,
   "metadata": {
    "colab": {
     "base_uri": "https://localhost:8080/"
    },
    "id": "NLydM5mvsn9x",
    "outputId": "c7f14d0c-64cc-4eab-83ae-81a69bf9cd9b"
   },
   "outputs": [
    {
     "name": "stdout",
     "output_type": "stream",
     "text": [
      "Accuracy on training data is: 0.9600586295346281\n",
      "Accuracy is: 0.7410845139228138\n",
      "Precision is: 0.762952711513866\n",
      "Recall is: 0.7410845139228138\n",
      "f1 score is: 0.7491540193603919\n",
      "              precision    recall  f1-score   support\n",
      "\n",
      "       <=50K       0.85      0.78      0.82      3021\n",
      "        >50K       0.50      0.63      0.56      1073\n",
      "\n",
      "    accuracy                           0.74      4094\n",
      "   macro avg       0.68      0.70      0.69      4094\n",
      "weighted avg       0.76      0.74      0.75      4094\n",
      "\n",
      "[[2363  658]\n",
      " [ 402  671]]\n"
     ]
    }
   ],
   "source": [
    "from sklearn.naive_bayes import GaussianNB\n",
    "#Create a Gaussian Classifier\n",
    "model = GaussianNB()\n",
    "gnb = model.fit(x_train,y_train)\n",
    "y_pred = gnb.predict(x_test)\n",
    "print('Accuracy on training data is:',rf_model.score(x_train,y_train))\n",
    "print('Accuracy is:',accuracy_score(y_test,y_pred))\n",
    "print('Precision is:',precision_score(y_test,y_pred,average='weighted'))\n",
    "print('Recall is:',recall_score(y_test,y_pred,average='weighted'))\n",
    "print('f1 score is:',f1_score(y_test,y_pred,average='weighted'))\n",
    "print(classification_report(y_test,y_pred))\n",
    "print(confusion_matrix(y_test,y_pred))"
   ]
  },
  {
   "cell_type": "code",
   "execution_count": 78,
   "metadata": {
    "colab": {
     "base_uri": "https://localhost:8080/"
    },
    "id": "3vC6WvPvddku",
    "outputId": "e0b0d943-0b3f-43dd-a943-f1055ee30f96"
   },
   "outputs": [
    {
     "data": {
      "text/plain": [
       "0.8194919394235467"
      ]
     },
     "execution_count": 78,
     "metadata": {},
     "output_type": "execute_result"
    }
   ],
   "source": [
    "from sklearn.ensemble import GradientBoostingClassifier\n",
    "clf = GradientBoostingClassifier(n_estimators=100, learning_rate=1.0, max_depth=1, random_state=0).fit(x_train, y_train)\n",
    "clf.score(x_test, y_test)"
   ]
  },
  {
   "cell_type": "markdown",
   "metadata": {
    "id": "F2N25f1Psn9y"
   },
   "source": [
    "**As seen in the  graph, there is a class imbalance problem. Models do not fit well when there is a class imbalance. There are some methods like oversampling, undersampling and mixture. I will do class oversampling using SMOTE(Synthetic Minority Oversampling Technique). It creates new samples along the lines of the existing samples.**"
   ]
  },
  {
   "cell_type": "markdown",
   "metadata": {
    "id": "V39qhgWxkVEN"
   },
   "source": [
    "## Sampling"
   ]
  },
  {
   "cell_type": "code",
   "execution_count": 79,
   "metadata": {
    "id": "HEzrHCYzsn9y"
   },
   "outputs": [
    {
     "name": "stdout",
     "output_type": "stream",
     "text": [
      "Requirement already satisfied: imblearn in c:\\users\\user\\anaconda3\\lib\\site-packages (0.0)\n",
      "Requirement already satisfied: imbalanced-learn in c:\\users\\user\\anaconda3\\lib\\site-packages (from imblearn) (0.10.1)\n",
      "Requirement already satisfied: threadpoolctl>=2.0.0 in c:\\users\\user\\anaconda3\\lib\\site-packages (from imbalanced-learn->imblearn) (2.2.0)\n",
      "Requirement already satisfied: joblib>=1.1.1 in c:\\users\\user\\anaconda3\\lib\\site-packages (from imbalanced-learn->imblearn) (1.2.0)\n",
      "Requirement already satisfied: scipy>=1.3.2 in c:\\users\\user\\anaconda3\\lib\\site-packages (from imbalanced-learn->imblearn) (1.9.1)\n",
      "Requirement already satisfied: scikit-learn>=1.0.2 in c:\\users\\user\\anaconda3\\lib\\site-packages (from imbalanced-learn->imblearn) (1.0.2)\n",
      "Requirement already satisfied: numpy>=1.17.3 in c:\\users\\user\\anaconda3\\lib\\site-packages (from imbalanced-learn->imblearn) (1.21.5)\n",
      "Note: you may need to restart the kernel to use updated packages.\n"
     ]
    }
   ],
   "source": [
    "pip install imblearn"
   ]
  },
  {
   "cell_type": "code",
   "execution_count": 80,
   "metadata": {
    "id": "IiQJh64Lsn9z",
    "scrolled": false
   },
   "outputs": [],
   "source": [
    "from imblearn.over_sampling import SMOTE"
   ]
  },
  {
   "cell_type": "code",
   "execution_count": 81,
   "metadata": {
    "colab": {
     "base_uri": "https://localhost:8080/"
    },
    "id": "k6b4DXJ-gpWA",
    "outputId": "d2a478fd-96fe-4995-f201-e0b2548ca298"
   },
   "outputs": [
    {
     "name": "stdout",
     "output_type": "stream",
     "text": [
      "Counter({'<=50K': 15092, '>50K': 15092})\n"
     ]
    }
   ],
   "source": [
    "oversample=SMOTE()\n",
    "x,y=oversample.fit_resample(df,target_salary)\n",
    "counter=Counter(y)\n",
    "print(counter)"
   ]
  },
  {
   "cell_type": "code",
   "execution_count": 82,
   "metadata": {
    "colab": {
     "base_uri": "https://localhost:8080/",
     "height": 282
    },
    "id": "iH3uKAxcJj3l",
    "outputId": "cac8b76a-cc3d-4383-910b-159af8bd73e3"
   },
   "outputs": [
    {
     "data": {
      "text/plain": [
       "<BarContainer object of 2 artists>"
      ]
     },
     "execution_count": 82,
     "metadata": {},
     "output_type": "execute_result"
    },
    {
     "data": {
      "image/png": "[encoded data removed]",
      "text/plain": [
       "<Figure size 1000x1000 with 1 Axes>"
      ]
     },
     "metadata": {},
     "output_type": "display_data"
    }
   ],
   "source": [
    "plt.bar(counter.keys(),counter.values())"
   ]
  },
  {
   "cell_type": "code",
   "execution_count": 83,
   "metadata": {
    "id": "r96ZJ3o-hSFo"
   },
   "outputs": [],
   "source": [
    "#Standardisation\n",
    "scale=StandardScaler()\n",
    "X=scale.fit_transform(x)"
   ]
  },
  {
   "cell_type": "code",
   "execution_count": 84,
   "metadata": {
    "id": "YMN-H8GBsn90"
   },
   "outputs": [],
   "source": [
    "X_train, X_test, Y_train, Y_test = train_test_split(X, y, test_size=0.2, random_state=24) # 80% training and 20% test"
   ]
  },
  {
   "cell_type": "markdown",
   "metadata": {
    "id": "pAiCFspXkyQn"
   },
   "source": [
    "## Logistic Regression"
   ]
  },
  {
   "cell_type": "code",
   "execution_count": 85,
   "metadata": {
    "colab": {
     "base_uri": "https://localhost:8080/"
    },
    "id": "b1vAee8xe5mP",
    "outputId": "4022064d-8bd9-4586-c9dd-66308199c8bb"
   },
   "outputs": [
    {
     "data": {
      "text/plain": [
       "0.6965380155706477"
      ]
     },
     "execution_count": 85,
     "metadata": {},
     "output_type": "execute_result"
    }
   ],
   "source": [
    "logmodel = LogisticRegression()\n",
    "logmodel.fit(X_train, Y_train)\n",
    "logmodel.score(X_test,Y_test)\n"
   ]
  },
  {
   "cell_type": "markdown",
   "metadata": {
    "id": "bhqLE1Yth_45"
   },
   "source": [
    "## SVM"
   ]
  },
  {
   "cell_type": "code",
   "execution_count": 86,
   "metadata": {
    "colab": {
     "base_uri": "https://localhost:8080/"
    },
    "id": "5pDZtFmOh5w1",
    "outputId": "db57d3e7-51c0-4a4b-a02e-18a67fd49c69"
   },
   "outputs": [
    {
     "name": "stdout",
     "output_type": "stream",
     "text": [
      "Accuracy on training data is: 0.7008738145525324\n",
      "Accuracy is: 0.7086301142951797\n",
      "Precision is: 0.7210595131742691\n",
      "Recall is: 0.7086301142951797\n",
      "f1 score is: 0.7035922953714049\n",
      "              precision    recall  f1-score   support\n",
      "\n",
      "       <=50K       0.77      0.58      0.66      2974\n",
      "        >50K       0.67      0.83      0.74      3063\n",
      "\n",
      "    accuracy                           0.71      6037\n",
      "   macro avg       0.72      0.71      0.70      6037\n",
      "weighted avg       0.72      0.71      0.70      6037\n",
      "\n",
      "[[1723 1251]\n",
      " [ 508 2555]]\n"
     ]
    }
   ],
   "source": [
    "from sklearn.svm import SVC\n",
    "svc=SVC(kernel='linear')\n",
    "svc.fit(X_train,Y_train)\n",
    "Y_pred=svc.predict(X_test)\n",
    "print('Accuracy on training data is:',svc.score(X_train,Y_train))\n",
    "print('Accuracy is:',accuracy_score(Y_test,Y_pred))\n",
    "print('Precision is:',precision_score(Y_test,Y_pred,average='weighted'))\n",
    "print('Recall is:',recall_score(Y_test,Y_pred,average='weighted'))\n",
    "print('f1 score is:',f1_score(Y_test,Y_pred,average='weighted'))\n",
    "print(classification_report(Y_test,Y_pred))\n",
    "print(confusion_matrix(Y_test,Y_pred))"
   ]
  },
  {
   "cell_type": "markdown",
   "metadata": {
    "id": "2nNk5nSwjkzr"
   },
   "source": [
    "### Decision Tree Classifier"
   ]
  },
  {
   "cell_type": "code",
   "execution_count": 87,
   "metadata": {
    "colab": {
     "base_uri": "https://localhost:8080/"
    },
    "id": "mUbnJuSBjsur",
    "outputId": "871746a2-a89e-4e95-d0f6-182bfad2c66d"
   },
   "outputs": [
    {
     "name": "stdout",
     "output_type": "stream",
     "text": [
      "Accuracy on training data is: 0.7008738145525324\n",
      "Accuracy is: 0.7964220639390426\n",
      "Precision is: 0.7966216467539484\n",
      "Recall is: 0.7964220639390426\n",
      "f1 score is: 0.7963243326988618\n",
      "              precision    recall  f1-score   support\n",
      "\n",
      "       <=50K       0.80      0.78      0.79      2974\n",
      "        >50K       0.79      0.81      0.80      3063\n",
      "\n",
      "    accuracy                           0.80      6037\n",
      "   macro avg       0.80      0.80      0.80      6037\n",
      "weighted avg       0.80      0.80      0.80      6037\n",
      "\n",
      "[[2312  662]\n",
      " [ 567 2496]]\n"
     ]
    }
   ],
   "source": [
    "dt_model=DecisionTreeClassifier()\n",
    "dt_model.fit(X_train,Y_train)\n",
    "Y_pred=dt_model.predict(X_test)\n",
    "print('Accuracy on training data is:',svc.score(X_train,Y_train))\n",
    "print('Accuracy is:',accuracy_score(Y_test,Y_pred))\n",
    "print('Precision is:',precision_score(Y_test,Y_pred,average='weighted'))\n",
    "print('Recall is:',recall_score(Y_test,Y_pred,average='weighted'))\n",
    "print('f1 score is:',f1_score(Y_test,Y_pred,average='weighted'))\n",
    "print(classification_report(Y_test,Y_pred))\n",
    "print(confusion_matrix(Y_test,Y_pred))"
   ]
  },
  {
   "cell_type": "markdown",
   "metadata": {
    "id": "TmZC1TDdk8YJ"
   },
   "source": [
    "## KNN"
   ]
  },
  {
   "cell_type": "code",
   "execution_count": 88,
   "metadata": {
    "id": "T9qzxW9jk63e"
   },
   "outputs": [],
   "source": [
    "from sklearn.neighbors import KNeighborsClassifier\n",
    "acc_values=[]\n",
    "n_neighbors=np.arange(2,18)\n",
    "for i in n_neighbors:\n",
    "  knn_model=KNeighborsClassifier(n_neighbors=i,metric='minkowski')\n",
    "  knn_model.fit(X_train,Y_train)\n",
    "  Y_pred=knn_model.predict(X_test)\n",
    "  acc=accuracy_score(Y_test,Y_pred)\n",
    "  acc_values.append(acc)"
   ]
  },
  {
   "cell_type": "code",
   "execution_count": 89,
   "metadata": {
    "colab": {
     "base_uri": "https://localhost:8080/",
     "height": 296
    },
    "id": "Oyv-SKcilX4W",
    "outputId": "df128ec6-d595-4b58-c503-d6101e4b2ab9"
   },
   "outputs": [
    {
     "data": {
      "text/plain": [
       "Text(0, 0.5, 'Accuracy values')"
      ]
     },
     "execution_count": 89,
     "metadata": {},
     "output_type": "execute_result"
    },
    {
     "data": {
      "image/png": "[encoded data removed]",
      "text/plain": [
       "<Figure size 1000x1000 with 1 Axes>"
      ]
     },
     "metadata": {},
     "output_type": "display_data"
    }
   ],
   "source": [
    "plt.plot(n_neighbors,acc_values,'o-')\n",
    "plt.xlabel('Number of Neighbors')\n",
    "plt.ylabel('Accuracy values')"
   ]
  },
  {
   "cell_type": "code",
   "execution_count": 90,
   "metadata": {
    "colab": {
     "base_uri": "https://localhost:8080/"
    },
    "id": "TWgWOfmulc5h",
    "outputId": "a871b667-b1e0-431c-f6e8-4fc3b0d042a7"
   },
   "outputs": [
    {
     "name": "stdout",
     "output_type": "stream",
     "text": [
      "Accuracy on training data is: 0.8882262806973952\n",
      "Accuracy is: 0.8101706145436475\n",
      "Precision is: 0.8117122050531993\n",
      "Recall is: 0.8101706145436475\n",
      "f1 score is: 0.8097988019532765\n",
      "              precision    recall  f1-score   support\n",
      "\n",
      "       <=50K       0.83      0.77      0.80      2974\n",
      "        >50K       0.79      0.85      0.82      3063\n",
      "\n",
      "    accuracy                           0.81      6037\n",
      "   macro avg       0.81      0.81      0.81      6037\n",
      "weighted avg       0.81      0.81      0.81      6037\n",
      "\n",
      "[[2288  686]\n",
      " [ 460 2603]]\n"
     ]
    }
   ],
   "source": [
    "knn_model=KNeighborsClassifier(n_neighbors=3,metric='minkowski')\n",
    "knn_model.fit(X_train,Y_train)\n",
    "Y_pred=knn_model.predict(X_test)\n",
    "print('Accuracy on training data is:',knn_model.score(X_train,Y_train))\n",
    "print('Accuracy is:',accuracy_score(Y_test,Y_pred))\n",
    "print('Precision is:',precision_score(Y_test,Y_pred,average='weighted'))\n",
    "print('Recall is:',recall_score(Y_test,Y_pred,average='weighted'))\n",
    "print('f1 score is:',f1_score(Y_test,Y_pred,average='weighted'))\n",
    "print(classification_report(Y_test,Y_pred))\n",
    "print(confusion_matrix(Y_test,Y_pred))"
   ]
  },
  {
   "cell_type": "markdown",
   "metadata": {
    "id": "dru9oTrYk_02"
   },
   "source": [
    "## RANDOM FOREST"
   ]
  },
  {
   "cell_type": "code",
   "execution_count": 91,
   "metadata": {
    "colab": {
     "base_uri": "https://localhost:8080/"
    },
    "id": "mRNGHen0lDub",
    "outputId": "d4fdc0e9-4f4b-478e-8627-17226fd45bb8"
   },
   "outputs": [
    {
     "name": "stdout",
     "output_type": "stream",
     "text": [
      "Accuracy on training data is: 0.9634323104319377\n",
      "Accuracy is: 0.8389928772569157\n",
      "Precision is: 0.8396942996137875\n",
      "Recall is: 0.8389928772569157\n",
      "f1 score is: 0.8388376804997092\n",
      "              precision    recall  f1-score   support\n",
      "\n",
      "       <=50K       0.85      0.81      0.83      2974\n",
      "        >50K       0.83      0.87      0.85      3063\n",
      "\n",
      "    accuracy                           0.84      6037\n",
      "   macro avg       0.84      0.84      0.84      6037\n",
      "weighted avg       0.84      0.84      0.84      6037\n",
      "\n",
      "[[2414  560]\n",
      " [ 412 2651]]\n"
     ]
    }
   ],
   "source": [
    "rf_model=RandomForestClassifier()\n",
    "rf_model.fit(X_train,Y_train)\n",
    "Y_pred=rf_model.predict(X_test)\n",
    "print('Accuracy on training data is:',rf_model.score(X_train,Y_train))\n",
    "print('Accuracy is:',accuracy_score(Y_test,Y_pred))\n",
    "print('Precision is:',precision_score(Y_test,Y_pred,average='weighted'))\n",
    "print('Recall is:',recall_score(Y_test,Y_pred,average='weighted'))\n",
    "print('f1 score is:',f1_score(Y_test,Y_pred,average='weighted'))\n",
    "print(classification_report(Y_test,Y_pred))\n",
    "print(confusion_matrix(Y_test,Y_pred))"
   ]
  },
  {
   "cell_type": "markdown",
   "metadata": {
    "id": "iEDCc2pZlLDM"
   },
   "source": [
    "## GRADIENT BOOSTING"
   ]
  },
  {
   "cell_type": "code",
   "execution_count": 92,
   "metadata": {
    "colab": {
     "base_uri": "https://localhost:8080/"
    },
    "id": "FCC1oflYlpMj",
    "outputId": "f5c3399a-2a70-44fe-c206-720c32392eb1"
   },
   "outputs": [
    {
     "name": "stdout",
     "output_type": "stream",
     "text": [
      "Accuracy on training data is: 0.9634323104319377\n",
      "Accuracy is: 0.8229252940202088\n",
      "Precision is: 0.8248923120609164\n",
      "Recall is: 0.8229252940202088\n",
      "f1 score is: 0.8225208133233215\n",
      "              precision    recall  f1-score   support\n",
      "\n",
      "       <=50K       0.85      0.78      0.81      2974\n",
      "        >50K       0.80      0.87      0.83      3063\n",
      "\n",
      "    accuracy                           0.82      6037\n",
      "   macro avg       0.83      0.82      0.82      6037\n",
      "weighted avg       0.82      0.82      0.82      6037\n",
      "\n",
      "[[2316  658]\n",
      " [ 411 2652]]\n"
     ]
    }
   ],
   "source": [
    "gb = GradientBoostingClassifier()\n",
    "gb.fit(X_train,Y_train)\n",
    "Y_pred = gb.predict(X_test)\n",
    "print('Accuracy on training data is:',rf_model.score(X_train,Y_train))\n",
    "print('Accuracy is:',accuracy_score(Y_test,Y_pred))\n",
    "print('Precision is:',precision_score(Y_test,Y_pred,average='weighted'))\n",
    "print('Recall is:',recall_score(Y_test,Y_pred,average='weighted'))\n",
    "print('f1 score is:',f1_score(Y_test,Y_pred,average='weighted'))\n",
    "print(classification_report(Y_test,Y_pred))\n",
    "print(confusion_matrix(Y_test,Y_pred))"
   ]
  },
  {
   "cell_type": "code",
   "execution_count": 93,
   "metadata": {
    "colab": {
     "base_uri": "https://localhost:8080/"
    },
    "id": "rjiowT5dpn7b",
    "outputId": "8f98dd9f-09b4-4e5f-b543-54d720ccff7f"
   },
   "outputs": [
    {
     "data": {
      "text/plain": [
       "0.8146430346198443"
      ]
     },
     "execution_count": 93,
     "metadata": {},
     "output_type": "execute_result"
    }
   ],
   "source": [
    "from sklearn.ensemble import GradientBoostingClassifier\n",
    "clf = GradientBoostingClassifier(n_estimators=100, learning_rate=1.0, max_depth=1, random_state=0).fit(X_train, Y_train)\n",
    "clf.score(X_test, Y_test)"
   ]
  },
  {
   "cell_type": "markdown",
   "metadata": {
    "id": "z6X5Ym_uvLhe"
   },
   "source": [
    "## Model prediction Accuracy table"
   ]
  },
  {
   "cell_type": "code",
   "execution_count": 94,
   "metadata": {
    "id": "Tduo7KplvOxx"
   },
   "outputs": [],
   "source": [
    "from tabulate import tabulate"
   ]
  },
  {
   "cell_type": "code",
   "execution_count": 95,
   "metadata": {
    "colab": {
     "base_uri": "https://localhost:8080/"
    },
    "id": "iDrcEnKwva7z",
    "outputId": "4ce2c93b-4b80-4677-d1dc-58cfce49892b"
   },
   "outputs": [
    {
     "name": "stdout",
     "output_type": "stream",
     "text": [
      "╒═════════════════════╤════════════╕\n",
      "│ Model               │   Accuracy │\n",
      "╞═════════════════════╪════════════╡\n",
      "│ Logistic Regression │     79.61  │\n",
      "├─────────────────────┼────────────┤\n",
      "│ KNN                 │     84.62  │\n",
      "├─────────────────────┼────────────┤\n",
      "│ Decision tree       │     84.22  │\n",
      "├─────────────────────┼────────────┤\n",
      "│ Random Forest       │     86.46  │\n",
      "├─────────────────────┼────────────┤\n",
      "│ Gradient Boost      │     83.198 │\n",
      "├─────────────────────┼────────────┤\n",
      "│ SVM                 │     79.8   │\n",
      "╘═════════════════════╧════════════╛\n"
     ]
    }
   ],
   "source": [
    "table = [['Model', 'Accuracy'], ['Logistic Regression',79.61], ['KNN',84.62],['Decision tree',84.22],['Random Forest',86.46],['Gradient Boost',83.198],['SVM',79.8]]\n",
    "print(tabulate(table,headers='firstrow',tablefmt='fancy_grid'))"
   ]
  },
  {
   "cell_type": "code",
   "execution_count": 96,
   "metadata": {},
   "outputs": [
    {
     "data": {
      "text/html": [
       "<div>\n",
       "<style scoped>\n",
       "    .dataframe tbody tr th:only-of-type {\n",
       "        vertical-align: middle;\n",
       "    }\n",
       "\n",
       "    .dataframe tbody tr th {\n",
       "        vertical-align: top;\n",
       "    }\n",
       "\n",
       "    .dataframe thead th {\n",
       "        text-align: right;\n",
       "    }\n",
       "</style>\n",
       "<table border=\"1\" class=\"dataframe\">\n",
       "  <thead>\n",
       "    <tr style=\"text-align: right;\">\n",
       "      <th></th>\n",
       "      <th>age</th>\n",
       "      <th>workclass</th>\n",
       "      <th>education</th>\n",
       "      <th>marital</th>\n",
       "      <th>occupation</th>\n",
       "      <th>relationship</th>\n",
       "      <th>race</th>\n",
       "      <th>sex</th>\n",
       "      <th>hours_per_week</th>\n",
       "      <th>country</th>\n",
       "    </tr>\n",
       "  </thead>\n",
       "  <tbody>\n",
       "    <tr>\n",
       "      <th>0</th>\n",
       "      <td>39</td>\n",
       "      <td>6</td>\n",
       "      <td>5</td>\n",
       "      <td>2</td>\n",
       "      <td>0</td>\n",
       "      <td>1</td>\n",
       "      <td>4</td>\n",
       "      <td>1</td>\n",
       "      <td>40</td>\n",
       "      <td>38</td>\n",
       "    </tr>\n",
       "    <tr>\n",
       "      <th>2</th>\n",
       "      <td>38</td>\n",
       "      <td>3</td>\n",
       "      <td>2</td>\n",
       "      <td>0</td>\n",
       "      <td>5</td>\n",
       "      <td>1</td>\n",
       "      <td>4</td>\n",
       "      <td>1</td>\n",
       "      <td>40</td>\n",
       "      <td>38</td>\n",
       "    </tr>\n",
       "    <tr>\n",
       "      <th>3</th>\n",
       "      <td>53</td>\n",
       "      <td>3</td>\n",
       "      <td>4</td>\n",
       "      <td>1</td>\n",
       "      <td>5</td>\n",
       "      <td>0</td>\n",
       "      <td>2</td>\n",
       "      <td>1</td>\n",
       "      <td>40</td>\n",
       "      <td>38</td>\n",
       "    </tr>\n",
       "    <tr>\n",
       "      <th>4</th>\n",
       "      <td>28</td>\n",
       "      <td>3</td>\n",
       "      <td>5</td>\n",
       "      <td>1</td>\n",
       "      <td>9</td>\n",
       "      <td>5</td>\n",
       "      <td>2</td>\n",
       "      <td>0</td>\n",
       "      <td>40</td>\n",
       "      <td>4</td>\n",
       "    </tr>\n",
       "    <tr>\n",
       "      <th>5</th>\n",
       "      <td>37</td>\n",
       "      <td>3</td>\n",
       "      <td>1</td>\n",
       "      <td>1</td>\n",
       "      <td>3</td>\n",
       "      <td>5</td>\n",
       "      <td>4</td>\n",
       "      <td>0</td>\n",
       "      <td>40</td>\n",
       "      <td>38</td>\n",
       "    </tr>\n",
       "    <tr>\n",
       "      <th>...</th>\n",
       "      <td>...</td>\n",
       "      <td>...</td>\n",
       "      <td>...</td>\n",
       "      <td>...</td>\n",
       "      <td>...</td>\n",
       "      <td>...</td>\n",
       "      <td>...</td>\n",
       "      <td>...</td>\n",
       "      <td>...</td>\n",
       "      <td>...</td>\n",
       "    </tr>\n",
       "    <tr>\n",
       "      <th>32555</th>\n",
       "      <td>22</td>\n",
       "      <td>3</td>\n",
       "      <td>3</td>\n",
       "      <td>2</td>\n",
       "      <td>10</td>\n",
       "      <td>1</td>\n",
       "      <td>4</td>\n",
       "      <td>1</td>\n",
       "      <td>40</td>\n",
       "      <td>38</td>\n",
       "    </tr>\n",
       "    <tr>\n",
       "      <th>32556</th>\n",
       "      <td>27</td>\n",
       "      <td>3</td>\n",
       "      <td>3</td>\n",
       "      <td>1</td>\n",
       "      <td>12</td>\n",
       "      <td>5</td>\n",
       "      <td>4</td>\n",
       "      <td>0</td>\n",
       "      <td>38</td>\n",
       "      <td>38</td>\n",
       "    </tr>\n",
       "    <tr>\n",
       "      <th>32557</th>\n",
       "      <td>40</td>\n",
       "      <td>3</td>\n",
       "      <td>2</td>\n",
       "      <td>1</td>\n",
       "      <td>6</td>\n",
       "      <td>0</td>\n",
       "      <td>4</td>\n",
       "      <td>1</td>\n",
       "      <td>40</td>\n",
       "      <td>38</td>\n",
       "    </tr>\n",
       "    <tr>\n",
       "      <th>32558</th>\n",
       "      <td>58</td>\n",
       "      <td>3</td>\n",
       "      <td>2</td>\n",
       "      <td>2</td>\n",
       "      <td>0</td>\n",
       "      <td>4</td>\n",
       "      <td>4</td>\n",
       "      <td>0</td>\n",
       "      <td>40</td>\n",
       "      <td>38</td>\n",
       "    </tr>\n",
       "    <tr>\n",
       "      <th>32560</th>\n",
       "      <td>52</td>\n",
       "      <td>4</td>\n",
       "      <td>2</td>\n",
       "      <td>1</td>\n",
       "      <td>3</td>\n",
       "      <td>5</td>\n",
       "      <td>4</td>\n",
       "      <td>0</td>\n",
       "      <td>40</td>\n",
       "      <td>38</td>\n",
       "    </tr>\n",
       "  </tbody>\n",
       "</table>\n",
       "<p>20468 rows × 10 columns</p>\n",
       "</div>"
      ],
      "text/plain": [
       "       age  workclass  education  marital  occupation  relationship  race  \\\n",
       "0       39          6          5        2           0             1     4   \n",
       "2       38          3          2        0           5             1     4   \n",
       "3       53          3          4        1           5             0     2   \n",
       "4       28          3          5        1           9             5     2   \n",
       "5       37          3          1        1           3             5     4   \n",
       "...    ...        ...        ...      ...         ...           ...   ...   \n",
       "32555   22          3          3        2          10             1     4   \n",
       "32556   27          3          3        1          12             5     4   \n",
       "32557   40          3          2        1           6             0     4   \n",
       "32558   58          3          2        2           0             4     4   \n",
       "32560   52          4          2        1           3             5     4   \n",
       "\n",
       "       sex  hours_per_week  country  \n",
       "0        1              40       38  \n",
       "2        1              40       38  \n",
       "3        1              40       38  \n",
       "4        0              40        4  \n",
       "5        0              40       38  \n",
       "...    ...             ...      ...  \n",
       "32555    1              40       38  \n",
       "32556    0              38       38  \n",
       "32557    1              40       38  \n",
       "32558    0              40       38  \n",
       "32560    0              40       38  \n",
       "\n",
       "[20468 rows x 10 columns]"
      ]
     },
     "execution_count": 96,
     "metadata": {},
     "output_type": "execute_result"
    }
   ],
   "source": [
    "df"
   ]
  },
  {
   "cell_type": "code",
   "execution_count": 97,
   "metadata": {
    "id": "ptsh4A2kwiE_"
   },
   "outputs": [],
   "source": [
    "# save the model\n",
    "import pickle\n",
    "filename = 'model.pkl'\n",
    "pickle.dump(rf_model, open(filename, 'wb'))"
   ]
  },
  {
   "cell_type": "code",
   "execution_count": 98,
   "metadata": {},
   "outputs": [],
   "source": [
    "load_model = pickle.load(open(filename,'rb'))"
   ]
  },
  {
   "cell_type": "code",
   "execution_count": 99,
   "metadata": {},
   "outputs": [
    {
     "data": {
      "text/plain": [
       "array(['>50K'], dtype=object)"
      ]
     },
     "execution_count": 99,
     "metadata": {},
     "output_type": "execute_result"
    }
   ],
   "source": [
    "load_model.predict([[52,4,11,2,3,5,4,0,40,38]])"
   ]
  },
  {
   "cell_type": "code",
   "execution_count": null,
   "metadata": {},
   "outputs": [],
   "source": []
  },
  {
   "cell_type": "code",
   "execution_count": null,
   "metadata": {},
   "outputs": [],
   "source": []
  },
  {
   "cell_type": "code",
   "execution_count": null,
   "metadata": {},
   "outputs": [],
   "source": []
  }
 ],
 "metadata": {
  "colab": {
   "collapsed_sections": [
    "n0D1suJm6_uS",
    "RlNdKdh1sn9W"
   ],
   "name": "HR_Salary_Prediction_shiffa.ipynb",
   "provenance": []
  },
  "kernelspec": {
   "display_name": "Python 3 (ipykernel)",
   "language": "python",
   "name": "python3"
  },
  "language_info": {
   "codemirror_mode": {
    "name": "ipython",
    "version": 3
   },
   "file_extension": ".py",
   "mimetype": "text/x-python",
   "name": "python",
   "nbconvert_exporter": "python",
   "pygments_lexer": "ipython3",
   "version": "3.9.13"
  }
 },
 "nbformat": 4,
 "nbformat_minor": 1
}
